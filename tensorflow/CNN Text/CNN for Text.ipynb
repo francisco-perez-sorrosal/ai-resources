{
 "cells": [
  {
   "cell_type": "code",
   "execution_count": 1,
   "metadata": {
    "collapsed": false
   },
   "outputs": [
    {
     "data": {
      "text/plain": [
       "array([[ 0.33229524],\n",
       "       [ 0.34212485],\n",
       "       [ 1.48613679],\n",
       "       [ 0.66891855],\n",
       "       [-0.19099435],\n",
       "       [ 1.77867949]], dtype=float32)"
      ]
     },
     "execution_count": 1,
     "metadata": {},
     "output_type": "execute_result"
    }
   ],
   "source": [
    "import tensorflow as tf\n",
    "\n",
    "sequence_length = 8\n",
    "vocab_size = 128\n",
    "embedding_size = 4\n",
    "\n",
    "input_x = tf.placeholder(tf.int32, [None, sequence_length], name=\"input_x\")\n",
    "emb = tf.Variable(tf.random_uniform([vocab_size, embedding_size], -1.0, 1.0), name=\"emb\")\n",
    "emb_input = tf.nn.embedding_lookup(emb, input_x)\n",
    "emb_input_expanded = tf.expand_dims(emb_input, -1)\n",
    "\n",
    "filter_sizes = [2, 3, 4] \n",
    "num_filters = 4\n",
    "\n",
    "pooled_outputs = []\n",
    "for i, filter_size in enumerate(filter_sizes):\n",
    "    with tf.name_scope(\"conv-maxpool-%s\" % filter_size):\n",
    "        filter_shape = [filter_size, embedding_size, 1, num_filters]\n",
    "        W = tf.Variable(tf.truncated_normal(filter_shape, stddev=0.1), name=\"W\")\n",
    "        b = tf.Variable(tf.constant(0.1, shape=[num_filters]), name=\"b\")\n",
    "        conv = tf.nn.conv2d(emb_input_expanded, \n",
    "            W, strides=[1, 1, 1, 1], \n",
    "            padding=\"VALID\", name=\"conv\")\n",
    "        h = tf.nn.relu(tf.nn.bias_add(conv, b), name=\"relu\")\n",
    "        pooled = tf.nn.max_pool( h, ksize=[1, \n",
    "            sequence_length - filter_size + 1, 1, 1], \n",
    "            strides=[1, 1, 1, 1], padding='VALID', name=\"pool\")\n",
    "        pooled_outputs.append(pooled)\n",
    "\n",
    "num_filters_total = num_filters * len(filter_sizes)\n",
    "h_pool = tf.concat(pooled_outputs, 3)\n",
    "h_pool_flat = tf.reshape(h_pool, [-1, num_filters_total])\n",
    "\n",
    "dropout_keep_prob = 0.5\n",
    "with tf.name_scope(\"dropout\"):\n",
    "    h_drop = tf.nn.dropout(h_pool_flat, dropout_keep_prob)\n",
    "\n",
    "# Final (unnormalized) scores and predictions\n",
    "num_classes = 1\n",
    "with tf.name_scope(\"output\"):\n",
    "    W = tf.Variable(tf.random_uniform([num_filters_total, num_classes], -1.0, 1.0), name = \"W\")\n",
    "    b = tf.Variable(tf.constant(0.1, shape=[num_classes]), name=\"b\")\n",
    "    scores = tf.nn.xw_plus_b(h_drop, W, b, name=\"scores\")\n",
    "    predictions = tf.argmax(scores, 1, name=\"predictions\")\n",
    "\n",
    "# [v.name for v in tf.get_collection(tf.GraphKeys.GLOBAL_VARIABLES, scope='conv-maxpool-2')]\n",
    "sess = tf.Session()\n",
    "sess.run(tf.global_variables_initializer())\n",
    "writer = tf.summary.FileWriter(\"./cnn_text\", graph=tf.get_default_graph())\n",
    "\n",
    "\n",
    "batch_x = [\n",
    "    [1, 4, 6, 8, 20, 2, 8, 9], \n",
    "    [11, 14, 16, 18, 20, 12, 18, 19],\n",
    "    [21, 24, 26, 28, 20, 22, 28, 29],\n",
    "    [31, 34, 36, 38, 20, 32, 38, 39],\n",
    "    [41, 44, 46, 48, 40, 42, 48, 49],\n",
    "    [51, 54, 56, 58, 50, 52, 58, 49]\n",
    "]\n",
    "\n",
    "sess.run(scores, feed_dict={input_x:batch_x})\n"
   ]
  },
  {
   "cell_type": "code",
   "execution_count": null,
   "metadata": {
    "collapsed": true
   },
   "outputs": [],
   "source": []
  }
 ],
 "metadata": {
  "kernelspec": {
   "display_name": "Python 2",
   "language": "python",
   "name": "python2"
  },
  "language_info": {
   "codemirror_mode": {
    "name": "ipython",
    "version": 2
   },
   "file_extension": ".py",
   "mimetype": "text/x-python",
   "name": "python",
   "nbconvert_exporter": "python",
   "pygments_lexer": "ipython2",
   "version": "2.7.13"
  }
 },
 "nbformat": 4,
 "nbformat_minor": 2
}
