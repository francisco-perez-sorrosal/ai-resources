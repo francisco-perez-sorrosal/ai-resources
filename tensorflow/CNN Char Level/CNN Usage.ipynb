{
 "cells": [
  {
   "cell_type": "code",
   "execution_count": 1,
   "metadata": {
    "collapsed": false
   },
   "outputs": [
    {
     "name": "stdout",
     "output_type": "stream",
     "text": [
      "Importing Jupyter notebook from CNNChar.ipynb\n",
      "Non-neutral instances processed: 812\n",
      "x_char_seq_ind=(812, 1014)\n",
      "y shape=(812, 2)\n",
      "x=[[ 3 17 39 ..., -1 -1 -1]\n",
      " [20 13  5 ..., -1 -1 -1]\n",
      " [ 3 17 39 ..., -1 -1 -1]\n",
      " ..., \n",
      " [22 -1 18 ..., 17  4 39]\n",
      " [19  7  8 ..., -1 -1 -1]\n",
      " [19  7  4 ..., -1 -1 -1]],\n",
      " y=[[0 1]\n",
      " [1 0]\n",
      " [0 1]\n",
      " ..., \n",
      " [0 1]\n",
      " [0 1]\n",
      " [1 0]]\n"
     ]
    }
   ],
   "source": [
    "import nbimporter\n",
    "import CNNChar as CNNC\n",
    "import tensorflow as tf\n",
    "import numpy as np\n",
    "import json\n",
    "\n",
    "def load_yelp(alphabet):\n",
    "    examples = []\n",
    "    labels = []\n",
    "    reviews = []\n",
    "    with open('yelp_reviews_small.json') as f:\n",
    "        i = 0\n",
    "        for line in f:\n",
    "            review = json.loads(line)\n",
    "            stars = review[\"stars\"]\n",
    "            text = review[\"text\"]\n",
    "            if stars != 3:\n",
    "                text_end_extracted = extract_end(list(text.lower()))\n",
    "                padded = pad_sentence(text_end_extracted)\n",
    "                #if i == 0: print(padded)\n",
    "                reviews.append(padded)\n",
    "                text_int8_repr = string_to_int8_conversion(padded, alphabet)\n",
    "                if stars == 1 or stars == 2:\n",
    "                    labels.append([1, 0])\n",
    "                    examples.append(text_int8_repr)\n",
    "                elif stars == 4 or stars == 5:\n",
    "                    labels.append([0, 1])\n",
    "                    examples.append(text_int8_repr)\n",
    "                i += 1\n",
    "                if i % 10000 == 0:\n",
    "                    print(\"Non-neutral instances processed: \" + str(i))\n",
    "        print(\"Non-neutral instances processed: \" + str(i))\n",
    "    return examples, labels, reviews\n",
    "\n",
    "def extract_end(char_seq):\n",
    "    if len(char_seq) > 1014:\n",
    "        char_seq = char_seq[-1014:]\n",
    "    return char_seq\n",
    "\n",
    "def pad_sentence(char_seq, padding_char=\" \"):\n",
    "    char_seq_length = 1014\n",
    "    num_padding = char_seq_length - len(char_seq)\n",
    "    new_char_seq = char_seq + [padding_char] * num_padding\n",
    "    return new_char_seq\n",
    "\n",
    "def string_to_int8_conversion(char_seq, alphabet):\n",
    "    x = np.array([alphabet.find(char) for char in char_seq], dtype=np.int8)\n",
    "    return x\n",
    "\n",
    "def get_batched_one_hot(char_seqs_indices, labels, start_index, end_index):\n",
    "    alphabet = \"abcdefghijklmnopqrstuvwxyz0123456789-,;.!?:'\\\"/\\\\|_@#$%^&*~`+-=<>()[]{}\\n\"\n",
    "    x_batch = char_seqs_indices[start_index:end_index]\n",
    "    y_batch = labels[start_index:end_index]\n",
    "    x_batch_one_hot = np.zeros(shape=[len(x_batch), len(alphabet), len(x_batch[0]), 1])\n",
    "    for example_i, char_seq_indices in enumerate(x_batch):\n",
    "        for char_pos_in_seq, char_seq_char_ind in enumerate(char_seq_indices):\n",
    "            if char_seq_char_ind != -1:\n",
    "                x_batch_one_hot[example_i][char_seq_char_ind][char_pos_in_seq][0] = 1\n",
    "    return [x_batch_one_hot, y_batch]\n",
    "\n",
    "def load_data():\n",
    "    # TODO Add the new line character later for the yelp'cause it's a multi-line review\n",
    "    alphabet = \"abcdefghijklmnopqrstuvwxyz0123456789-,;.!?:'\\\"/\\\\|_@#$%^&*~`+-=<>()[]{}\\n\"\n",
    "    examples, labels, reviews = load_yelp(alphabet)\n",
    "    x = np.array(examples, dtype=np.int8) # Convert list into np array\n",
    "    y = np.array(labels, dtype=np.int8) # Convert list into np array\n",
    "    print(\"x_char_seq_ind=\" + str(x.shape))\n",
    "    print(\"y shape=\" + str(y.shape))\n",
    "    return [x, y, reviews]\n",
    "\n",
    "def batch_iter(x, y, batch_size, num_epochs, shuffle=True):\n",
    "    \"\"\"\n",
    "    Generates a batch iterator for a dataset.\n",
    "    \"\"\"\n",
    "    # data = np.array(data)\n",
    "    data_size = len(x)\n",
    "    num_batches_per_epoch = int(data_size/batch_size) + 1\n",
    "    for epoch in range(num_epochs):\n",
    "        print(\"In epoch >> \" + str(epoch + 1))\n",
    "        print(\"num batches per epoch is: \" + str(num_batches_per_epoch))\n",
    "        # Shuffle the data at each epoch\n",
    "        if shuffle:\n",
    "            shuffle_indices = np.random.permutation(np.arange(data_size))\n",
    "            x_shuffled = x[shuffle_indices]\n",
    "            y_shuffled = y[shuffle_indices]\n",
    "        else:\n",
    "            x_shuffled = x\n",
    "            y_shuffled = y\n",
    "        for batch_num in range(num_batches_per_epoch):\n",
    "            start_index = batch_num * batch_size\n",
    "            end_index = min((batch_num + 1) * batch_size, data_size)\n",
    "            x_batch, y_batch = get_batched_one_hot(x_shuffled, y_shuffled, start_index, end_index)\n",
    "            batch = [x_batch, y_batch]\n",
    "            yield batch\n",
    "\n",
    "\n",
    "batch_size = 100\n",
    "num_epochs = 2\n",
    "[x, y, reviews] = load_data()\n",
    "print(\"x=%s,\\n y=%s\" % (np.array_str(x), np.array_str(y)))\n",
    "bg = batch_iter(x, y, batch_size, num_epochs, shuffle=False)\n"
   ]
  },
  {
   "cell_type": "code",
   "execution_count": 3,
   "metadata": {
    "collapsed": false
   },
   "outputs": [
    {
     "name": "stdout",
     "output_type": "stream",
     "text": [
      "[[[ 0.]\n",
      "  [ 0.]\n",
      "  [ 0.]\n",
      "  ..., \n",
      "  [ 0.]\n",
      "  [ 0.]\n",
      "  [ 0.]]\n",
      "\n",
      " [[ 0.]\n",
      "  [ 0.]\n",
      "  [ 0.]\n",
      "  ..., \n",
      "  [ 0.]\n",
      "  [ 0.]\n",
      "  [ 0.]]\n",
      "\n",
      " [[ 0.]\n",
      "  [ 0.]\n",
      "  [ 0.]\n",
      "  ..., \n",
      "  [ 0.]\n",
      "  [ 0.]\n",
      "  [ 0.]]\n",
      "\n",
      " ..., \n",
      " [[ 0.]\n",
      "  [ 0.]\n",
      "  [ 0.]\n",
      "  ..., \n",
      "  [ 0.]\n",
      "  [ 0.]\n",
      "  [ 0.]]\n",
      "\n",
      " [[ 0.]\n",
      "  [ 0.]\n",
      "  [ 0.]\n",
      "  ..., \n",
      "  [ 0.]\n",
      "  [ 0.]\n",
      "  [ 0.]]\n",
      "\n",
      " [[ 0.]\n",
      "  [ 0.]\n",
      "  [ 0.]\n",
      "  ..., \n",
      "  [ 0.]\n",
      "  [ 0.]\n",
      "  [ 0.]]]\n",
      "(100, 70, 1014, 1)\n"
     ]
    },
    {
     "ename": "InvalidArgumentError",
     "evalue": "You must feed a value for placeholder tensor 'input_x' with dtype float\n\t [[Node: input_x = Placeholder[dtype=DT_FLOAT, shape=[], _device=\"/job:localhost/replica:0/task:0/cpu:0\"]()]]\n\nCaused by op u'input_x', defined at:\n  File \"/Users/fperez/.pyenv/versions/anaconda2-4.3.0/lib/python2.7/runpy.py\", line 174, in _run_module_as_main\n    \"__main__\", fname, loader, pkg_name)\n  File \"/Users/fperez/.pyenv/versions/anaconda2-4.3.0/lib/python2.7/runpy.py\", line 72, in _run_code\n    exec code in run_globals\n  File \"/Users/fperez/.pyenv/versions/anaconda2-4.3.0/lib/python2.7/site-packages/ipykernel/__main__.py\", line 3, in <module>\n    app.launch_new_instance()\n  File \"/Users/fperez/.pyenv/versions/anaconda2-4.3.0/lib/python2.7/site-packages/traitlets/config/application.py\", line 658, in launch_instance\n    app.start()\n  File \"/Users/fperez/.pyenv/versions/anaconda2-4.3.0/lib/python2.7/site-packages/ipykernel/kernelapp.py\", line 474, in start\n    ioloop.IOLoop.instance().start()\n  File \"/Users/fperez/.pyenv/versions/anaconda2-4.3.0/lib/python2.7/site-packages/zmq/eventloop/ioloop.py\", line 177, in start\n    super(ZMQIOLoop, self).start()\n  File \"/Users/fperez/.pyenv/versions/anaconda2-4.3.0/lib/python2.7/site-packages/tornado/ioloop.py\", line 887, in start\n    handler_func(fd_obj, events)\n  File \"/Users/fperez/.pyenv/versions/anaconda2-4.3.0/lib/python2.7/site-packages/tornado/stack_context.py\", line 275, in null_wrapper\n    return fn(*args, **kwargs)\n  File \"/Users/fperez/.pyenv/versions/anaconda2-4.3.0/lib/python2.7/site-packages/zmq/eventloop/zmqstream.py\", line 440, in _handle_events\n    self._handle_recv()\n  File \"/Users/fperez/.pyenv/versions/anaconda2-4.3.0/lib/python2.7/site-packages/zmq/eventloop/zmqstream.py\", line 472, in _handle_recv\n    self._run_callback(callback, msg)\n  File \"/Users/fperez/.pyenv/versions/anaconda2-4.3.0/lib/python2.7/site-packages/zmq/eventloop/zmqstream.py\", line 414, in _run_callback\n    callback(*args, **kwargs)\n  File \"/Users/fperez/.pyenv/versions/anaconda2-4.3.0/lib/python2.7/site-packages/tornado/stack_context.py\", line 275, in null_wrapper\n    return fn(*args, **kwargs)\n  File \"/Users/fperez/.pyenv/versions/anaconda2-4.3.0/lib/python2.7/site-packages/ipykernel/kernelbase.py\", line 276, in dispatcher\n    return self.dispatch_shell(stream, msg)\n  File \"/Users/fperez/.pyenv/versions/anaconda2-4.3.0/lib/python2.7/site-packages/ipykernel/kernelbase.py\", line 228, in dispatch_shell\n    handler(stream, idents, msg)\n  File \"/Users/fperez/.pyenv/versions/anaconda2-4.3.0/lib/python2.7/site-packages/ipykernel/kernelbase.py\", line 390, in execute_request\n    user_expressions, allow_stdin)\n  File \"/Users/fperez/.pyenv/versions/anaconda2-4.3.0/lib/python2.7/site-packages/ipykernel/ipkernel.py\", line 196, in do_execute\n    res = shell.run_cell(code, store_history=store_history, silent=silent)\n  File \"/Users/fperez/.pyenv/versions/anaconda2-4.3.0/lib/python2.7/site-packages/ipykernel/zmqshell.py\", line 501, in run_cell\n    return super(ZMQInteractiveShell, self).run_cell(*args, **kwargs)\n  File \"/Users/fperez/.pyenv/versions/anaconda2-4.3.0/lib/python2.7/site-packages/IPython/core/interactiveshell.py\", line 2717, in run_cell\n    interactivity=interactivity, compiler=compiler, result=result)\n  File \"/Users/fperez/.pyenv/versions/anaconda2-4.3.0/lib/python2.7/site-packages/IPython/core/interactiveshell.py\", line 2821, in run_ast_nodes\n    if self.run_code(code, result):\n  File \"/Users/fperez/.pyenv/versions/anaconda2-4.3.0/lib/python2.7/site-packages/IPython/core/interactiveshell.py\", line 2881, in run_code\n    exec(code_obj, self.user_global_ns, self.user_ns)\n  File \"<ipython-input-2-cee1a5abb4d2>\", line 15, in <module>\n    cnn = CNNC.CharCNN()\n  File \"CNNChar.ipynb\", line 9, in __init__\n    \"outputs\": [],\n  File \"/Users/fperez/.pyenv/versions/anaconda2-4.3.0/lib/python2.7/site-packages/tensorflow/python/ops/array_ops.py\", line 1502, in placeholder\n    name=name)\n  File \"/Users/fperez/.pyenv/versions/anaconda2-4.3.0/lib/python2.7/site-packages/tensorflow/python/ops/gen_array_ops.py\", line 2149, in _placeholder\n    name=name)\n  File \"/Users/fperez/.pyenv/versions/anaconda2-4.3.0/lib/python2.7/site-packages/tensorflow/python/framework/op_def_library.py\", line 763, in apply_op\n    op_def=op_def)\n  File \"/Users/fperez/.pyenv/versions/anaconda2-4.3.0/lib/python2.7/site-packages/tensorflow/python/framework/ops.py\", line 2327, in create_op\n    original_op=self._default_original_op, op_def=op_def)\n  File \"/Users/fperez/.pyenv/versions/anaconda2-4.3.0/lib/python2.7/site-packages/tensorflow/python/framework/ops.py\", line 1226, in __init__\n    self._traceback = _extract_stack()\n\nInvalidArgumentError (see above for traceback): You must feed a value for placeholder tensor 'input_x' with dtype float\n\t [[Node: input_x = Placeholder[dtype=DT_FLOAT, shape=[], _device=\"/job:localhost/replica:0/task:0/cpu:0\"]()]]\n",
     "output_type": "error",
     "traceback": [
      "\u001b[0;31m---------------------------------------------------------------------------\u001b[0m",
      "\u001b[0;31mInvalidArgumentError\u001b[0m                      Traceback (most recent call last)",
      "\u001b[0;32m<ipython-input-3-cee1a5abb4d2>\u001b[0m in \u001b[0;36m<module>\u001b[0;34m()\u001b[0m\n\u001b[1;32m     18\u001b[0m \u001b[0;34m\u001b[0m\u001b[0m\n\u001b[1;32m     19\u001b[0m \u001b[0mwriter\u001b[0m \u001b[0;34m=\u001b[0m \u001b[0mtf\u001b[0m\u001b[0;34m.\u001b[0m\u001b[0msummary\u001b[0m\u001b[0;34m.\u001b[0m\u001b[0mFileWriter\u001b[0m\u001b[0;34m(\u001b[0m\u001b[0;34m\"./char_cnn\"\u001b[0m\u001b[0;34m,\u001b[0m \u001b[0mgraph\u001b[0m\u001b[0;34m=\u001b[0m\u001b[0mtf\u001b[0m\u001b[0;34m.\u001b[0m\u001b[0mget_default_graph\u001b[0m\u001b[0;34m(\u001b[0m\u001b[0;34m)\u001b[0m\u001b[0;34m)\u001b[0m\u001b[0;34m\u001b[0m\u001b[0m\n\u001b[0;32m---> 20\u001b[0;31m \u001b[0msess\u001b[0m\u001b[0;34m.\u001b[0m\u001b[0mrun\u001b[0m\u001b[0;34m(\u001b[0m\u001b[0;34m\"conv-maxpool-1/pool1:0\"\u001b[0m\u001b[0;34m,\u001b[0m \u001b[0mfeed_dict\u001b[0m\u001b[0;34m=\u001b[0m\u001b[0;34m{\u001b[0m\u001b[0mcnn\u001b[0m\u001b[0;34m.\u001b[0m\u001b[0minput_x\u001b[0m\u001b[0;34m:\u001b[0m\u001b[0mx_batch\u001b[0m\u001b[0;34m}\u001b[0m\u001b[0;34m)\u001b[0m\u001b[0;34m\u001b[0m\u001b[0m\n\u001b[0m\u001b[1;32m     21\u001b[0m \u001b[0;34m\u001b[0m\u001b[0m\n\u001b[1;32m     22\u001b[0m \u001b[0mw1\u001b[0m \u001b[0;34m=\u001b[0m \u001b[0msess\u001b[0m\u001b[0;34m.\u001b[0m\u001b[0mrun\u001b[0m\u001b[0;34m(\u001b[0m\u001b[0;34m\"conv-maxpool-1/W:0\"\u001b[0m\u001b[0;34m,\u001b[0m \u001b[0mfeed_dict\u001b[0m\u001b[0;34m=\u001b[0m\u001b[0;34m{\u001b[0m\u001b[0mcnn\u001b[0m\u001b[0;34m.\u001b[0m\u001b[0minput_x\u001b[0m\u001b[0;34m:\u001b[0m\u001b[0mx_batch\u001b[0m\u001b[0;34m}\u001b[0m\u001b[0;34m)\u001b[0m\u001b[0;34m\u001b[0m\u001b[0m\n",
      "\u001b[0;32m/Users/fperez/.pyenv/versions/anaconda2-4.3.0/lib/python2.7/site-packages/tensorflow/python/client/session.pyc\u001b[0m in \u001b[0;36mrun\u001b[0;34m(self, fetches, feed_dict, options, run_metadata)\u001b[0m\n\u001b[1;32m    765\u001b[0m     \u001b[0;32mtry\u001b[0m\u001b[0;34m:\u001b[0m\u001b[0;34m\u001b[0m\u001b[0m\n\u001b[1;32m    766\u001b[0m       result = self._run(None, fetches, feed_dict, options_ptr,\n\u001b[0;32m--> 767\u001b[0;31m                          run_metadata_ptr)\n\u001b[0m\u001b[1;32m    768\u001b[0m       \u001b[0;32mif\u001b[0m \u001b[0mrun_metadata\u001b[0m\u001b[0;34m:\u001b[0m\u001b[0;34m\u001b[0m\u001b[0m\n\u001b[1;32m    769\u001b[0m         \u001b[0mproto_data\u001b[0m \u001b[0;34m=\u001b[0m \u001b[0mtf_session\u001b[0m\u001b[0;34m.\u001b[0m\u001b[0mTF_GetBuffer\u001b[0m\u001b[0;34m(\u001b[0m\u001b[0mrun_metadata_ptr\u001b[0m\u001b[0;34m)\u001b[0m\u001b[0;34m\u001b[0m\u001b[0m\n",
      "\u001b[0;32m/Users/fperez/.pyenv/versions/anaconda2-4.3.0/lib/python2.7/site-packages/tensorflow/python/client/session.pyc\u001b[0m in \u001b[0;36m_run\u001b[0;34m(self, handle, fetches, feed_dict, options, run_metadata)\u001b[0m\n\u001b[1;32m    963\u001b[0m     \u001b[0;32mif\u001b[0m \u001b[0mfinal_fetches\u001b[0m \u001b[0;32mor\u001b[0m \u001b[0mfinal_targets\u001b[0m\u001b[0;34m:\u001b[0m\u001b[0;34m\u001b[0m\u001b[0m\n\u001b[1;32m    964\u001b[0m       results = self._do_run(handle, final_targets, final_fetches,\n\u001b[0;32m--> 965\u001b[0;31m                              feed_dict_string, options, run_metadata)\n\u001b[0m\u001b[1;32m    966\u001b[0m     \u001b[0;32melse\u001b[0m\u001b[0;34m:\u001b[0m\u001b[0;34m\u001b[0m\u001b[0m\n\u001b[1;32m    967\u001b[0m       \u001b[0mresults\u001b[0m \u001b[0;34m=\u001b[0m \u001b[0;34m[\u001b[0m\u001b[0;34m]\u001b[0m\u001b[0;34m\u001b[0m\u001b[0m\n",
      "\u001b[0;32m/Users/fperez/.pyenv/versions/anaconda2-4.3.0/lib/python2.7/site-packages/tensorflow/python/client/session.pyc\u001b[0m in \u001b[0;36m_do_run\u001b[0;34m(self, handle, target_list, fetch_list, feed_dict, options, run_metadata)\u001b[0m\n\u001b[1;32m   1013\u001b[0m     \u001b[0;32mif\u001b[0m \u001b[0mhandle\u001b[0m \u001b[0;32mis\u001b[0m \u001b[0mNone\u001b[0m\u001b[0;34m:\u001b[0m\u001b[0;34m\u001b[0m\u001b[0m\n\u001b[1;32m   1014\u001b[0m       return self._do_call(_run_fn, self._session, feed_dict, fetch_list,\n\u001b[0;32m-> 1015\u001b[0;31m                            target_list, options, run_metadata)\n\u001b[0m\u001b[1;32m   1016\u001b[0m     \u001b[0;32melse\u001b[0m\u001b[0;34m:\u001b[0m\u001b[0;34m\u001b[0m\u001b[0m\n\u001b[1;32m   1017\u001b[0m       return self._do_call(_prun_fn, self._session, handle, feed_dict,\n",
      "\u001b[0;32m/Users/fperez/.pyenv/versions/anaconda2-4.3.0/lib/python2.7/site-packages/tensorflow/python/client/session.pyc\u001b[0m in \u001b[0;36m_do_call\u001b[0;34m(self, fn, *args)\u001b[0m\n\u001b[1;32m   1033\u001b[0m         \u001b[0;32mexcept\u001b[0m \u001b[0mKeyError\u001b[0m\u001b[0;34m:\u001b[0m\u001b[0;34m\u001b[0m\u001b[0m\n\u001b[1;32m   1034\u001b[0m           \u001b[0;32mpass\u001b[0m\u001b[0;34m\u001b[0m\u001b[0m\n\u001b[0;32m-> 1035\u001b[0;31m       \u001b[0;32mraise\u001b[0m \u001b[0mtype\u001b[0m\u001b[0;34m(\u001b[0m\u001b[0me\u001b[0m\u001b[0;34m)\u001b[0m\u001b[0;34m(\u001b[0m\u001b[0mnode_def\u001b[0m\u001b[0;34m,\u001b[0m \u001b[0mop\u001b[0m\u001b[0;34m,\u001b[0m \u001b[0mmessage\u001b[0m\u001b[0;34m)\u001b[0m\u001b[0;34m\u001b[0m\u001b[0m\n\u001b[0m\u001b[1;32m   1036\u001b[0m \u001b[0;34m\u001b[0m\u001b[0m\n\u001b[1;32m   1037\u001b[0m   \u001b[0;32mdef\u001b[0m \u001b[0m_extend_graph\u001b[0m\u001b[0;34m(\u001b[0m\u001b[0mself\u001b[0m\u001b[0;34m)\u001b[0m\u001b[0;34m:\u001b[0m\u001b[0;34m\u001b[0m\u001b[0m\n",
      "\u001b[0;31mInvalidArgumentError\u001b[0m: You must feed a value for placeholder tensor 'input_x' with dtype float\n\t [[Node: input_x = Placeholder[dtype=DT_FLOAT, shape=[], _device=\"/job:localhost/replica:0/task:0/cpu:0\"]()]]\n\nCaused by op u'input_x', defined at:\n  File \"/Users/fperez/.pyenv/versions/anaconda2-4.3.0/lib/python2.7/runpy.py\", line 174, in _run_module_as_main\n    \"__main__\", fname, loader, pkg_name)\n  File \"/Users/fperez/.pyenv/versions/anaconda2-4.3.0/lib/python2.7/runpy.py\", line 72, in _run_code\n    exec code in run_globals\n  File \"/Users/fperez/.pyenv/versions/anaconda2-4.3.0/lib/python2.7/site-packages/ipykernel/__main__.py\", line 3, in <module>\n    app.launch_new_instance()\n  File \"/Users/fperez/.pyenv/versions/anaconda2-4.3.0/lib/python2.7/site-packages/traitlets/config/application.py\", line 658, in launch_instance\n    app.start()\n  File \"/Users/fperez/.pyenv/versions/anaconda2-4.3.0/lib/python2.7/site-packages/ipykernel/kernelapp.py\", line 474, in start\n    ioloop.IOLoop.instance().start()\n  File \"/Users/fperez/.pyenv/versions/anaconda2-4.3.0/lib/python2.7/site-packages/zmq/eventloop/ioloop.py\", line 177, in start\n    super(ZMQIOLoop, self).start()\n  File \"/Users/fperez/.pyenv/versions/anaconda2-4.3.0/lib/python2.7/site-packages/tornado/ioloop.py\", line 887, in start\n    handler_func(fd_obj, events)\n  File \"/Users/fperez/.pyenv/versions/anaconda2-4.3.0/lib/python2.7/site-packages/tornado/stack_context.py\", line 275, in null_wrapper\n    return fn(*args, **kwargs)\n  File \"/Users/fperez/.pyenv/versions/anaconda2-4.3.0/lib/python2.7/site-packages/zmq/eventloop/zmqstream.py\", line 440, in _handle_events\n    self._handle_recv()\n  File \"/Users/fperez/.pyenv/versions/anaconda2-4.3.0/lib/python2.7/site-packages/zmq/eventloop/zmqstream.py\", line 472, in _handle_recv\n    self._run_callback(callback, msg)\n  File \"/Users/fperez/.pyenv/versions/anaconda2-4.3.0/lib/python2.7/site-packages/zmq/eventloop/zmqstream.py\", line 414, in _run_callback\n    callback(*args, **kwargs)\n  File \"/Users/fperez/.pyenv/versions/anaconda2-4.3.0/lib/python2.7/site-packages/tornado/stack_context.py\", line 275, in null_wrapper\n    return fn(*args, **kwargs)\n  File \"/Users/fperez/.pyenv/versions/anaconda2-4.3.0/lib/python2.7/site-packages/ipykernel/kernelbase.py\", line 276, in dispatcher\n    return self.dispatch_shell(stream, msg)\n  File \"/Users/fperez/.pyenv/versions/anaconda2-4.3.0/lib/python2.7/site-packages/ipykernel/kernelbase.py\", line 228, in dispatch_shell\n    handler(stream, idents, msg)\n  File \"/Users/fperez/.pyenv/versions/anaconda2-4.3.0/lib/python2.7/site-packages/ipykernel/kernelbase.py\", line 390, in execute_request\n    user_expressions, allow_stdin)\n  File \"/Users/fperez/.pyenv/versions/anaconda2-4.3.0/lib/python2.7/site-packages/ipykernel/ipkernel.py\", line 196, in do_execute\n    res = shell.run_cell(code, store_history=store_history, silent=silent)\n  File \"/Users/fperez/.pyenv/versions/anaconda2-4.3.0/lib/python2.7/site-packages/ipykernel/zmqshell.py\", line 501, in run_cell\n    return super(ZMQInteractiveShell, self).run_cell(*args, **kwargs)\n  File \"/Users/fperez/.pyenv/versions/anaconda2-4.3.0/lib/python2.7/site-packages/IPython/core/interactiveshell.py\", line 2717, in run_cell\n    interactivity=interactivity, compiler=compiler, result=result)\n  File \"/Users/fperez/.pyenv/versions/anaconda2-4.3.0/lib/python2.7/site-packages/IPython/core/interactiveshell.py\", line 2821, in run_ast_nodes\n    if self.run_code(code, result):\n  File \"/Users/fperez/.pyenv/versions/anaconda2-4.3.0/lib/python2.7/site-packages/IPython/core/interactiveshell.py\", line 2881, in run_code\n    exec(code_obj, self.user_global_ns, self.user_ns)\n  File \"<ipython-input-2-cee1a5abb4d2>\", line 15, in <module>\n    cnn = CNNC.CharCNN()\n  File \"CNNChar.ipynb\", line 9, in __init__\n    \"outputs\": [],\n  File \"/Users/fperez/.pyenv/versions/anaconda2-4.3.0/lib/python2.7/site-packages/tensorflow/python/ops/array_ops.py\", line 1502, in placeholder\n    name=name)\n  File \"/Users/fperez/.pyenv/versions/anaconda2-4.3.0/lib/python2.7/site-packages/tensorflow/python/ops/gen_array_ops.py\", line 2149, in _placeholder\n    name=name)\n  File \"/Users/fperez/.pyenv/versions/anaconda2-4.3.0/lib/python2.7/site-packages/tensorflow/python/framework/op_def_library.py\", line 763, in apply_op\n    op_def=op_def)\n  File \"/Users/fperez/.pyenv/versions/anaconda2-4.3.0/lib/python2.7/site-packages/tensorflow/python/framework/ops.py\", line 2327, in create_op\n    original_op=self._default_original_op, op_def=op_def)\n  File \"/Users/fperez/.pyenv/versions/anaconda2-4.3.0/lib/python2.7/site-packages/tensorflow/python/framework/ops.py\", line 1226, in __init__\n    self._traceback = _extract_stack()\n\nInvalidArgumentError (see above for traceback): You must feed a value for placeholder tensor 'input_x' with dtype float\n\t [[Node: input_x = Placeholder[dtype=DT_FLOAT, shape=[], _device=\"/job:localhost/replica:0/task:0/cpu:0\"]()]]\n"
     ]
    }
   ],
   "source": [
    "# Batch 1 \n",
    "# ''.join(reviews[0])\n",
    "# x[0][0:100]\n",
    "# [v[0][0] for v in x_batch[0]]\n",
    "# w1 = sess.run(\"conv-maxpool-1/W:0\", feed_dict={cnn.input_x:x_batch})\n",
    "# c1 = sess.run(\"conv-maxpool-1/conv1:0\", feed_dict={cnn.input_x:x_batch})\n",
    "# for i, j in enumerate(x[0][0:7]): print i, j, x_batch[0][j][i][0], w1[j][i][0][0]\n",
    "# s=0; for i, j in enumerate(x[0][0:7]): s+= x_batch[0][j][i][0]*w1[j][i][0][0]\n",
    "\n",
    "[x_batch, y_batch] = next(bg)\n",
    "\n",
    "print(x_batch[0])\n",
    "print(x_batch.shape)\n",
    "# CNN\n",
    "cnn = CNNC.CharCNN()\n",
    "sess = tf.Session();\n",
    "sess.run(tf.global_variables_initializer())\n",
    "\n",
    "writer = tf.summary.FileWriter(\"./char_cnn\", graph=tf.get_default_graph())\n",
    "sess.run(\"conv-maxpool-1/pool1:0\", feed_dict={cnn.input_x:x_batch})\n",
    "\n",
    "w1 = sess.run(\"conv-maxpool-1/W:0\", feed_dict={cnn.input_x:x_batch})\n",
    "b1 = sess.run(\"conv-maxpool-1/b:0\", feed_dict={cnn.input_x:x_batch})\n",
    "w2 = sess.run(\"conv-maxpool-2/W:0\", feed_dict={cnn.input_x:x_batch})\n",
    "b2 = sess.run(\"conv-maxpool-2/b:0\", feed_dict={cnn.input_x:x_batch})\n",
    "w3 = sess.run(\"conv-3/W:0\", feed_dict={cnn.input_x:x_batch})\n",
    "b3 = sess.run(\"conv-3/b:0\", feed_dict={cnn.input_x:x_batch})\n",
    "w4 = sess.run(\"conv-4/W:0\", feed_dict={cnn.input_x:x_batch})\n",
    "b4 = sess.run(\"conv-4/b:0\", feed_dict={cnn.input_x:x_batch})\n",
    "w5 = sess.run(\"conv-5/W:0\", feed_dict={cnn.input_x:x_batch})\n",
    "b5 = sess.run(\"conv-5/b:0\", feed_dict={cnn.input_x:x_batch})\n",
    "w6 = sess.run(\"conv-maxpool-6/W:0\", feed_dict={cnn.input_x:x_batch})\n",
    "b6 = sess.run(\"conv-maxpool-6/b:0\", feed_dict={cnn.input_x:x_batch})\n",
    "w7 = sess.run(\"fc-1/W:0\", feed_dict={cnn.input_x:x_batch})\n",
    "b7 = sess.run(\"fc-1/b:0\", feed_dict={cnn.input_x:x_batch})\n",
    "w8 = sess.run(\"fc-2/W:0\", feed_dict={cnn.input_x:x_batch})\n",
    "b8 = sess.run(\"fc-2/b:0\", feed_dict={cnn.input_x:x_batch})\n",
    "w9 = sess.run(\"fc-3/W:0\", feed_dict={cnn.input_x:x_batch})\n",
    "b9 = sess.run(\"fc-3/b:0\", feed_dict={cnn.input_x:x_batch})\n",
    "c1 = sess.run(\"conv-maxpool-1/conv1:0\", feed_dict={cnn.input_x:x_batch})"
   ]
  },
  {
   "cell_type": "code",
   "execution_count": null,
   "metadata": {
    "collapsed": false
   },
   "outputs": [],
   "source": [
    "print(x_batch.shape)\n",
    "print(x_batch[0][0])"
   ]
  },
  {
   "cell_type": "code",
   "execution_count": null,
   "metadata": {
    "collapsed": false
   },
   "outputs": [],
   "source": [
    "# First 100 chars of example 1 coded to positions in the alphabet:\n",
    "# alphabet: \"abcdefghijklmnopqrstuvwxyz0123456789-,;.!?:'\\\"/\\\\|_@#$%^&*~`+-=<>()[]{}\\n\"\n",
    "# example 1: \"dr. goldberg offers everything i look for in a general...\"\n",
    "x[0][0:100]"
   ]
  },
  {
   "cell_type": "code",
   "execution_count": null,
   "metadata": {
    "collapsed": false
   },
   "outputs": [],
   "source": [
    "[v[0][0] for v in x_batch[0]] # Character representation for 'd' in \"dr.\"\n",
    "#[v[1][0] for v in x_batch[0]] # Character representation for 'r' in \"dr.\"\n",
    "#[v[2][0] for v in x_batch[0]] # Character representation for '.' in \"dr.\""
   ]
  },
  {
   "cell_type": "code",
   "execution_count": null,
   "metadata": {
    "collapsed": false
   },
   "outputs": [],
   "source": [
    "# 70 (Filter height or alphabet lenght) x 7 (filter width or chars per filter) x 1 (depth) x 256 filters\n",
    "w1 = sess.run(\"conv-maxpool-1/W:0\", feed_dict={cnn.input_x:x_batch})\n",
    "w1.shape"
   ]
  },
  {
   "cell_type": "code",
   "execution_count": null,
   "metadata": {
    "collapsed": false
   },
   "outputs": [],
   "source": [
    "# Result of applying the convolution\n",
    "# 512 samples x (1 dim vector x 1008 values after applying the filter) x 256 filters\n",
    "c1 = sess.run(\"conv-maxpool-1/conv1:0\", feed_dict={cnn.input_x:x_batch})\n",
    "c1.shape"
   ]
  },
  {
   "cell_type": "code",
   "execution_count": null,
   "metadata": {
    "collapsed": false
   },
   "outputs": [],
   "source": [
    "# How to check if we're doin fine?\n",
    "# E.g. take the first value fo the first sample (of 512) on the first filter (of 256)\n",
    "c1[0][0][0][0]\n",
    "#  s  x  y  f"
   ]
  },
  {
   "cell_type": "code",
   "execution_count": null,
   "metadata": {
    "collapsed": false
   },
   "outputs": [],
   "source": [
    "# Then perform the operation \"manually\" of the first filter (7 chars) to see what's in there required for the calculation:\n",
    "for i, j in enumerate(x[0][0:7]): print i, j, x_batch[0][j][i][0], w1[j][i][0][0]\n",
    "# Note that the 3rd element multiplies by 0 so it won't be taken into account\n",
    "# Remember that x[0] is the first example, so x[0][0:7] are the first 7 chars of the first example: \"dr. gol\""
   ]
  },
  {
   "cell_type": "code",
   "execution_count": null,
   "metadata": {
    "collapsed": false
   },
   "outputs": [],
   "source": [
    "# Then perform the manual calculation and observe that the result is the same\n",
    "s=0\n",
    "for i, j in enumerate(x[0][0:7]): s+= x_batch[0][j][i][0]*w1[j][i][0][0]\n",
    "print(s)"
   ]
  },
  {
   "cell_type": "code",
   "execution_count": null,
   "metadata": {
    "collapsed": false
   },
   "outputs": [],
   "source": []
  },
  {
   "cell_type": "code",
   "execution_count": null,
   "metadata": {
    "collapsed": true
   },
   "outputs": [],
   "source": []
  }
 ],
 "metadata": {
  "kernelspec": {
   "display_name": "Python 2",
   "language": "python",
   "name": "python2"
  },
  "language_info": {
   "codemirror_mode": {
    "name": "ipython",
    "version": 2
   },
   "file_extension": ".py",
   "mimetype": "text/x-python",
   "name": "python",
   "nbconvert_exporter": "python",
   "pygments_lexer": "ipython2",
   "version": "2.7.13"
  }
 },
 "nbformat": 4,
 "nbformat_minor": 2
}
