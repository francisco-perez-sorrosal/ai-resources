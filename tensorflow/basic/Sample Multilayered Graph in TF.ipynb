{
 "cells": [
  {
   "cell_type": "markdown",
   "metadata": {},
   "source": [
    "# Small Computational Multilayered Graph in Python Using TF"
   ]
  },
  {
   "cell_type": "code",
   "execution_count": null,
   "metadata": {
    "collapsed": false
   },
   "outputs": [],
   "source": [
    "import tensorflow as tf"
   ]
  },
  {
   "cell_type": "markdown",
   "metadata": {},
   "source": [
    "![SimpleGraph](SimpleGraphTF.png \"Title\")\n",
    "Graph definition shown above:"
   ]
  },
  {
   "cell_type": "code",
   "execution_count": null,
   "metadata": {
    "collapsed": false
   },
   "outputs": [],
   "source": [
    "with tf.name_scope(\"variables\"):\n",
    "    global_step = tf.Variable(0, dtype=tf.int32, name=\"step\")\n",
    "    total_output = tf.Variable(0, dtype=tf.float32, name=\"output\")\n",
    "\n",
    "with tf.name_scope(\"transformation\"):\n",
    "    with tf.name_scope(\"input\"):\n",
    "        a = tf.placeholder(tf.float32, shape=[None], name=\"input_a\")\n",
    "    with tf.name_scope(\"middle_layer\"):\n",
    "        b = tf.reduce_prod(a, name=\"product_b\")\n",
    "        c = tf.reduce_sum(a, name=\"product_c\")\n",
    "    with tf.name_scope(\"output_layer\"):\n",
    "        output = tf.add(b, c, name=\"output\")\n",
    "\n",
    "with tf.name_scope(\"update\"):\n",
    "    update_total = total_output.assign_add(output)\n",
    "    increment_step = global_step.assign_add(1)\n",
    "\n",
    "# tf.summary is a kind of time-series\n",
    "with tf.name_scope(\"summaries\"):\n",
    "    avg = tf.div(update_total, tf.cast(global_step, tf.float32), name=\"avg\")\n",
    "    tf.summary.scalar(\"output\", output)\n",
    "    tf.summary.scalar(\"OutputOverTime\", update_total)\n",
    "    tf.summary.scalar(\"AvgOverTime\", avg)\n",
    "    summary_op = tf.summary.merge_all()\n"
   ]
  },
  {
   "cell_type": "code",
   "execution_count": null,
   "metadata": {
    "collapsed": false
   },
   "outputs": [],
   "source": [
    "g = tf.get_default_graph()\n",
    "g.get_operations()"
   ]
  },
  {
   "cell_type": "code",
   "execution_count": null,
   "metadata": {
    "collapsed": false
   },
   "outputs": [],
   "source": [
    "op = g.get_operation_by_name(\"transformation/middle_layer/product_b\")\n",
    "op.op_def"
   ]
  },
  {
   "cell_type": "markdown",
   "metadata": {},
   "source": [
    "Create a writer to write the results in a tensorboard file:"
   ]
  },
  {
   "cell_type": "code",
   "execution_count": null,
   "metadata": {
    "collapsed": true
   },
   "outputs": [],
   "source": [
    "writer = tf.summary.FileWriter(\"/Users/fperez/dev/tensorboard.out\", graph=tf.get_default_graph())"
   ]
  },
  {
   "cell_type": "markdown",
   "metadata": {},
   "source": [
    "Main code for executing the graph:"
   ]
  },
  {
   "cell_type": "code",
   "execution_count": null,
   "metadata": {
    "collapsed": false
   },
   "outputs": [],
   "source": [
    "def run_graph(input_tensor):\n",
    "    print(input_tensor)\n",
    "    out, step, summary = sess.run([output, increment_step, summary_op], feed_dict={a: input_tensor})\n",
    "    print (step, out, summary)\n",
    "    writer.add_summary(summary, step)\n",
    "\n",
    "sess = tf.Session()\n",
    "\n",
    "sess.run(tf.initialize_all_variables())\n",
    "\n",
    "run_graph([2,8])\n",
    "run_graph([3,1,3,3])\n",
    "run_graph([8])\n",
    "run_graph([1,2,3])\n",
    "run_graph([11,4])\n",
    "run_graph([4,1])\n",
    "run_graph([7,3,1])\n",
    "run_graph([6,3])\n",
    "run_graph([0,2])\n",
    "run_graph([4,5,6])\n",
    "run_graph([2,3,5])\n",
    "\n",
    "writer.close()\n",
    "sess.close()"
   ]
  },
  {
   "cell_type": "markdown",
   "metadata": {
    "collapsed": true
   },
   "source": [
    "You can go to the [Tensorboard](http://localhost:6006/) and see the results"
   ]
  },
  {
   "cell_type": "code",
   "execution_count": null,
   "metadata": {
    "collapsed": true
   },
   "outputs": [],
   "source": []
  }
 ],
 "metadata": {
  "kernelspec": {
   "display_name": "Python 2",
   "language": "python",
   "name": "python2"
  },
  "language_info": {
   "codemirror_mode": {
    "name": "ipython",
    "version": 2
   },
   "file_extension": ".py",
   "mimetype": "text/x-python",
   "name": "python",
   "nbconvert_exporter": "python",
   "pygments_lexer": "ipython2",
   "version": "2.7.13"
  }
 },
 "nbformat": 4,
 "nbformat_minor": 2
}
