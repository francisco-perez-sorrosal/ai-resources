{
 "cells": [
  {
   "cell_type": "markdown",
   "metadata": {},
   "source": [
    "# Gradient Descent Implementation"
   ]
  },
  {
   "cell_type": "code",
   "execution_count": 1,
   "metadata": {
    "collapsed": true
   },
   "outputs": [],
   "source": [
    "import tensorflow as tf"
   ]
  },
  {
   "cell_type": "markdown",
   "metadata": {},
   "source": [
    "### Inputs and outputs"
   ]
  },
  {
   "cell_type": "code",
   "execution_count": 2,
   "metadata": {
    "collapsed": true
   },
   "outputs": [],
   "source": [
    "X = [1, 2, 3, 4]\n",
    "Y = [1, 5, 10, 17]"
   ]
  },
  {
   "cell_type": "markdown",
   "metadata": {},
   "source": [
    "### Placeholder for data"
   ]
  },
  {
   "cell_type": "code",
   "execution_count": 3,
   "metadata": {
    "collapsed": true
   },
   "outputs": [],
   "source": [
    "X_train = tf.placeholder(tf.float32, shape=[None])\n",
    "Y_train = tf.placeholder(tf.float32, shape=[None])"
   ]
  },
  {
   "cell_type": "markdown",
   "metadata": {},
   "source": [
    "### Weight and biases\n",
    "Initialized to two specific values (5 and 1) at random"
   ]
  },
  {
   "cell_type": "code",
   "execution_count": 4,
   "metadata": {
    "collapsed": true
   },
   "outputs": [],
   "source": [
    "W = tf.Variable([5.0])\n",
    "b = tf.Variable([1.0])"
   ]
  },
  {
   "cell_type": "markdown",
   "metadata": {},
   "source": [
    "### This is the model"
   ]
  },
  {
   "cell_type": "code",
   "execution_count": 5,
   "metadata": {
    "collapsed": true
   },
   "outputs": [],
   "source": [
    "yHat = W*X_train + b"
   ]
  },
  {
   "cell_type": "markdown",
   "metadata": {},
   "source": [
    "### Learning rate"
   ]
  },
  {
   "cell_type": "code",
   "execution_count": 6,
   "metadata": {
    "collapsed": true
   },
   "outputs": [],
   "source": [
    "learning_rate = 0.1"
   ]
  },
  {
   "cell_type": "markdown",
   "metadata": {},
   "source": [
    "### Cost function"
   ]
  },
  {
   "cell_type": "code",
   "execution_count": 7,
   "metadata": {
    "collapsed": true
   },
   "outputs": [],
   "source": [
    "cost = tf.reduce_mean(tf.square(Y_train-yHat)*0.5)"
   ]
  },
  {
   "cell_type": "markdown",
   "metadata": {},
   "source": [
    "### Gradient Descent Manually Calculated"
   ]
  },
  {
   "cell_type": "code",
   "execution_count": 8,
   "metadata": {
    "collapsed": true
   },
   "outputs": [],
   "source": [
    "gradient_w = tf.reduce_mean(((yHat-Y_train)*X_train))\n",
    "descent_w = W -(learning_rate * gradient_w)\n",
    "update_w = W.assign(descent_w)\n",
    "\n",
    "gradient_b = tf.reduce_mean(yHat-Y_train)\n",
    "descent_b = b -(learning_rate * gradient_b)\n",
    "update_b = b.assign(descent_b)\n",
    "\n",
    "# Start new session\n",
    "\n",
    "sessManual = tf.Session()\n",
    "sessManual.run(tf.global_variables_initializer())\n",
    "\n",
    "for step in range(10):\n",
    "    print(step, sessManual.run([yHat, cost, gradient_w, gradient_b], feed_dict={X_train:X, Y_train:Y}))\n",
    "    sessManual.run([update_w, update_b], feed_dict={X_train:X, Y_train:Y})\n",
    "\n",
    "sessManual.close()"
   ]
  },
  {
   "cell_type": "markdown",
   "metadata": {},
   "source": [
    "### Gradient Descent Automatic Calculation Through TF Libraries (Gradients + and GD Optimizer)"
   ]
  },
  {
   "cell_type": "code",
   "execution_count": 35,
   "metadata": {
    "collapsed": false
   },
   "outputs": [
    {
     "name": "stdout",
     "output_type": "stream",
     "text": [
      "(0, [array([  6.,  11.,  16.,  21.], dtype=float32), 14.125, array([ 12.75], dtype=float32), array([ 5.25], dtype=float32)])\n",
      "(1, [array([  4.19999981,   7.92499971,  11.64999962,  15.375     ], dtype=float32), 3.0198431, array([ 1.87499952], dtype=float32), array([ 1.53749979], dtype=float32)])\n",
      "(2, [array([  3.85874987,   7.39624977,  10.9337492 ,  14.47124958], dtype=float32), 2.6476161, array([ 0.08437383], dtype=float32), array([ 0.9149996], dtype=float32)])\n",
      "(3, [array([  3.75881243,   7.28787518,  10.81693745,  14.34599972], dtype=float32), 2.5695653, array([-0.2076565], dtype=float32), array([ 0.80240619], dtype=float32)])\n",
      "(4, [array([  3.69933748,   7.24916553,  10.79899406,  14.34882164], dtype=float32), 2.5015383, array([-0.25251567], dtype=float32), array([ 0.77407968], dtype=float32)])\n",
      "(5, [array([  3.64718103,   7.22226095,  10.79734039,  14.37242031], dtype=float32), 2.4357424, array([-0.25664866], dtype=float32), array([ 0.75980067], dtype=float32)])\n",
      "(6, [array([  3.59686589,   7.19761038,  10.7983551 ,  14.39909935], dtype=float32), 2.3719072, array([-0.25411272], dtype=float32), array([ 0.74798268], dtype=float32)])\n",
      "(7, [array([  3.54747891,   7.17363501,  10.79979038,  14.42594624], dtype=float32), 2.3099694, array([-0.25052381], dtype=float32), array([ 0.73671263], dtype=float32)])\n",
      "(8, [array([  3.49885988,   7.15006828,  10.80127621,  14.45248413], dtype=float32), 2.249872, array([-0.2468096], dtype=float32), array([ 0.72567213], dtype=float32)])\n",
      "(9, [array([  3.45097351,   7.12686253,  10.80275154,  14.47864056], dtype=float32), 2.19156, array([-0.24312115], dtype=float32), array([ 0.71480703], dtype=float32)])\n"
     ]
    }
   ],
   "source": [
    "gradient_ow, gradient_ob = tf.gradients(cost, [W,b])\n",
    "optimizer = tf.train.GradientDescentOptimizer(learning_rate=learning_rate).minimize(cost)\n",
    "\n",
    "# Start new session\n",
    "\n",
    "sessAuto = tf.Session()\n",
    "sessAuto.run(tf.global_variables_initializer())\n",
    "\n",
    "for step in range(10):\n",
    "    print(step, sessAuto.run([yHat, cost, gradient_ow, gradient_ob], feed_dict={X_train:X, Y_train:Y}))\n",
    "    sessAuto.run([optimizer], feed_dict={X_train:X, Y_train:Y})\n",
    "\n",
    "sessAuto.close()"
   ]
  },
  {
   "cell_type": "markdown",
   "metadata": {},
   "source": [
    "### All Together!"
   ]
  },
  {
   "cell_type": "code",
   "execution_count": 36,
   "metadata": {
    "collapsed": false
   },
   "outputs": [
    {
     "name": "stdout",
     "output_type": "stream",
     "text": [
      "(0, [array([  6.,  11.,  16.,  21.], dtype=float32), 14.125, 12.75, 5.25, array([ 12.75], dtype=float32), array([ 5.25], dtype=float32)])\n",
      "(1, [array([  4.19999981,   7.92499971,  11.64999962,  15.375     ], dtype=float32), 3.0198431, 1.8749995, 1.5374998, array([ 1.87499952], dtype=float32), array([ 1.53749979], dtype=float32)])\n",
      "(2, [array([  3.85874987,   7.39624977,  10.9337492 ,  14.47124958], dtype=float32), 2.6476161, 0.084373832, 0.9149996, array([ 0.08437383], dtype=float32), array([ 0.9149996], dtype=float32)])\n",
      "(3, [array([  3.75881243,   7.28787518,  10.81693745,  14.34599972], dtype=float32), 2.5695653, -0.2076565, 0.80240619, array([-0.2076565], dtype=float32), array([ 0.80240619], dtype=float32)])\n",
      "(4, [array([  3.69933748,   7.24916553,  10.79899406,  14.34882164], dtype=float32), 2.5015383, -0.25251567, 0.77407968, array([-0.25251567], dtype=float32), array([ 0.77407968], dtype=float32)])\n",
      "(5, [array([  3.64718103,   7.22226095,  10.79734039,  14.37242031], dtype=float32), 2.4357424, -0.25664866, 0.75980067, array([-0.25664866], dtype=float32), array([ 0.75980067], dtype=float32)])\n",
      "(6, [array([  3.59686589,   7.19761038,  10.7983551 ,  14.39909935], dtype=float32), 2.3719072, -0.25411272, 0.74798268, array([-0.25411272], dtype=float32), array([ 0.74798268], dtype=float32)])\n",
      "(7, [array([  3.54747891,   7.17363501,  10.79979038,  14.42594624], dtype=float32), 2.3099694, -0.25052381, 0.73671263, array([-0.25052381], dtype=float32), array([ 0.73671263], dtype=float32)])\n",
      "(8, [array([  3.49885988,   7.15006828,  10.80127621,  14.45248413], dtype=float32), 2.249872, -0.2468096, 0.72567213, array([-0.2468096], dtype=float32), array([ 0.72567213], dtype=float32)])\n",
      "(9, [array([  3.45097351,   7.12686253,  10.80275154,  14.47864056], dtype=float32), 2.19156, -0.24312115, 0.71480703, array([-0.24312115], dtype=float32), array([ 0.71480703], dtype=float32)])\n",
      "(10, [array([  3.40380478,   7.10400581,  10.80420685,  14.50440788], dtype=float32), 2.1349807, -0.23948288, 0.70410633, array([-0.23948288], dtype=float32), array([ 0.70410633], dtype=float32)])\n",
      "(11, [array([  3.35734248,   7.08149147,  10.80564022,  14.52978992], dtype=float32), 2.0800829, -0.23589849, 0.69356602, array([-0.23589849], dtype=float32), array([ 0.69356602], dtype=float32)])\n",
      "(12, [array([  3.31157565,   7.05931473,  10.80705452,  14.55479336], dtype=float32), 2.0268164, -0.23236442, 0.68318456, array([-0.23236442], dtype=float32), array([ 0.68318456], dtype=float32)])\n",
      "(13, [array([  3.2664938 ,   7.03746939,  10.80844498,  14.57942009], dtype=float32), 1.9751333, -0.22888803, 0.67295706, array([-0.22888803], dtype=float32), array([ 0.67295706], dtype=float32)])\n",
      "(14, [array([  3.22208691,   7.01595163,  10.80981636,  14.60368061], dtype=float32), 1.9249852, -0.22545958, 0.66288388, array([-0.22545958], dtype=float32), array([ 0.66288388], dtype=float32)])\n",
      "(15, [array([  3.17834473,   6.99475527,  10.81116581,  14.62757587], dtype=float32), 1.8763275, -0.22208595, 0.65296042, array([-0.22208595], dtype=float32), array([ 0.65296042], dtype=float32)])\n",
      "(16, [array([  3.13525724,   6.97387648,  10.81249619,  14.65111542], dtype=float32), 1.8291149, -0.21875989, 0.64318633, array([-0.21875989], dtype=float32), array([ 0.64318633], dtype=float32)])\n",
      "(17, [array([  3.09281468,   6.95331001,  10.81380463,  14.67430115], dtype=float32), 1.7833058, -0.21548676, 0.63355762, array([-0.21548676], dtype=float32), array([ 0.63355762], dtype=float32)])\n",
      "(18, [array([  3.05100775,   6.93305159,  10.8150959 ,  14.69713974], dtype=float32), 1.7388585, -0.2122606, 0.62407374, array([-0.2122606], dtype=float32), array([ 0.62407374], dtype=float32)])\n",
      "(19, [array([  3.00982642,   6.9130969 ,  10.8163662 ,  14.71963692], dtype=float32), 1.6957314, -0.20908332, 0.61473161, array([-0.20908332], dtype=float32), array([ 0.61473161], dtype=float32)])\n",
      "(20, [array([  2.96926165,   6.89344025,  10.81761837,  14.74179745], dtype=float32), 1.6538858, -0.20595324, 0.60552943, array([-0.20595324], dtype=float32), array([ 0.60552943], dtype=float32)])\n",
      "(21, [array([  2.92930412,   6.8740778 ,  10.81885242,  14.7636261 ], dtype=float32), 1.6132836, -0.20286965, 0.59646511, array([-0.20286965], dtype=float32), array([ 0.59646511], dtype=float32)])\n",
      "(22, [array([  2.88994455,   6.85500526,  10.82006645,  14.78512764], dtype=float32), 1.5738881, -0.19983375, 0.58753598, array([-0.19983375], dtype=float32), array([ 0.58753598], dtype=float32)])\n",
      "(23, [array([  2.85117435,   6.83621836,  10.82126236,  14.80630684], dtype=float32), 1.5356632, -0.19684362, 0.57874048, array([-0.19684362], dtype=float32), array([ 0.57874048], dtype=float32)])\n",
      "(24, [array([  2.8129847 ,   6.81771374,  10.82244301,  14.82717133], dtype=float32), 1.4985743, -0.19389343, 0.57007819, array([-0.19389343], dtype=float32), array([ 0.57007819], dtype=float32)])\n",
      "(25, [array([  2.77536607,   6.79948425,  10.82360172,  14.84772015], dtype=float32), 1.4625871, -0.19099498, 0.56154305, array([-0.19099498], dtype=float32), array([ 0.56154305], dtype=float32)])\n",
      "(26, [array([  2.73831153,   6.78152943,  10.82474709,  14.86796474], dtype=float32), 1.4276695, -0.18813229, 0.5531382, array([-0.18813229], dtype=float32), array([ 0.5531382], dtype=float32)])\n",
      "(27, [array([  2.70181084,   6.76384163,  10.82587242,  14.88790321], dtype=float32), 1.3937894, -0.18531895, 0.54485703, array([-0.18531895], dtype=float32), array([ 0.54485703], dtype=float32)])\n",
      "(28, [array([  2.66585684,   6.74641943,  10.8269825 ,  14.90754509], dtype=float32), 1.3609159, -0.18254411, 0.53670096, array([-0.18254411], dtype=float32), array([ 0.53670096], dtype=float32)])\n",
      "(29, [array([  2.63044119,   6.72925806,  10.82807541,  14.92689133], dtype=float32), 1.32902, -0.17981279, 0.5286665, array([-0.17981279], dtype=float32), array([ 0.5286665], dtype=float32)])\n",
      "(30, [array([  2.59555554,   6.71235371,  10.82915115,  14.94594955], dtype=float32), 1.2980709, -0.1771214, 0.52075249, array([-0.1771214], dtype=float32), array([ 0.52075249], dtype=float32)])\n",
      "(31, [array([  2.56119251,   6.69570255,  10.83021259,  14.96472263], dtype=float32), 1.2680421, -0.17446852, 0.51295757, array([-0.17446852], dtype=float32), array([ 0.51295757], dtype=float32)])\n",
      "(32, [array([  2.52734375,   6.67930079,  10.83125782,  14.98321438], dtype=float32), 1.2389054, -0.17185593, 0.50527918, array([-0.17185593], dtype=float32), array([ 0.50527918], dtype=float32)])\n",
      "(33, [array([  2.49400139,   6.66314411,  10.83228683,  15.00142956], dtype=float32), 1.2106342, -0.16928291, 0.49771547, array([-0.16928291], dtype=float32), array([ 0.49771547], dtype=float32)])\n",
      "(34, [array([  2.46115804,   6.64722919,  10.83329964,  15.01937103], dtype=float32), 1.1832032, -0.16675013, 0.49026448, array([-0.16675013], dtype=float32), array([ 0.49026448], dtype=float32)])\n",
      "(35, [array([  2.42880654,   6.6315527 ,  10.83429909,  15.03704453], dtype=float32), 1.1565877, -0.16425318, 0.48292571, array([-0.16425318], dtype=float32), array([ 0.48292571], dtype=float32)])\n",
      "(36, [array([  2.39693928,   6.61611032,  10.83528042,  15.05445194], dtype=float32), 1.1307628, -0.16179776, 0.47569549, array([-0.16179776], dtype=float32), array([ 0.47569549], dtype=float32)])\n",
      "(37, [array([  2.36554909,   6.6008997 ,  10.83625031,  15.07160091], dtype=float32), 1.1057053, -0.15937424, 0.468575, array([-0.15937424], dtype=float32), array([ 0.468575], dtype=float32)])\n",
      "(38, [array([  2.33462906,   6.585917  ,  10.83720589,  15.08849335], dtype=float32), 1.0813923, -0.15698647, 0.46156132, array([-0.15698647], dtype=float32), array([ 0.46156132], dtype=float32)])\n",
      "(39, [array([  2.30417132,   6.57115746,  10.83814335,  15.1051302 ], dtype=float32), 1.0578017, -0.15464073, 0.45465058, array([-0.15464073], dtype=float32), array([ 0.45465058], dtype=float32)])\n",
      "(40, [array([  2.27417064,   6.55662155,  10.83907223,  15.1215229 ], dtype=float32), 1.0349125, -0.15231949, 0.44784683, array([-0.15231949], dtype=float32), array([ 0.44784683], dtype=float32)])\n",
      "(41, [array([  2.24461794,   6.5423007 ,  10.83998299,  15.1376667 ], dtype=float32), 1.0127027, -0.15004122, 0.44114208, array([-0.15004122], dtype=float32), array([ 0.44114208], dtype=float32)])\n",
      "(42, [array([  2.21550798,   6.5281949 ,  10.84088135,  15.15356827], dtype=float32), 0.9911539, -0.14779627, 0.43453813, array([-0.14779627], dtype=float32), array([ 0.43453813], dtype=float32)])\n",
      "(43, [array([  2.18683386,   6.51430035,  10.84176636,  15.16923332], dtype=float32), 0.97024471, -0.14558327, 0.42803347, array([-0.14558327], dtype=float32), array([ 0.42803347], dtype=float32)])\n",
      "(44, [array([  2.15858889,   6.50061369,  10.84263802,  15.18466377], dtype=float32), 0.94995677, -0.14340365, 0.42162609, array([-0.14340365], dtype=float32), array([ 0.42162609], dtype=float32)])\n",
      "(45, [array([  2.13076663,   6.48713207,  10.84349728,  15.19986248], dtype=float32), 0.93027222, -0.14125687, 0.41531461, array([-0.14125687], dtype=float32), array([ 0.41531461], dtype=float32)])\n",
      "(46, [array([  2.10336089,   6.47385216,  10.84434319,  15.21483421], dtype=float32), 0.91117227, -0.1391421, 0.40909761, array([-0.1391421], dtype=float32), array([ 0.40909761], dtype=float32)])\n",
      "(47, [array([  2.07636523,   6.46077061,  10.84517574,  15.22958088], dtype=float32), 0.89263988, -0.1370607, 0.40297312, array([-0.1370607], dtype=float32), array([ 0.40297312], dtype=float32)])\n",
      "(48, [array([  2.04977417,   6.44788551,  10.84599686,  15.2441082 ], dtype=float32), 0.87465811, -0.13500786, 0.39694118, array([-0.13500786], dtype=float32), array([ 0.39694118], dtype=float32)])\n",
      "(49, [array([  2.02358079,   6.43519306,  10.84680557,  15.25841713], dtype=float32), 0.85721087, -0.13298696, 0.39099914, array([-0.13298696], dtype=float32), array([ 0.39099914], dtype=float32)])\n",
      "(50, [array([  1.99777937,   6.42268991,  10.84760094,  15.27251053], dtype=float32), 0.8402822, -0.13099897, 0.38514519, array([-0.13099897], dtype=float32), array([ 0.38514519], dtype=float32)])\n",
      "(51, [array([  1.97236443,   6.41037464,  10.84838486,  15.28639507], dtype=float32), 0.823856, -0.12903786, 0.37937975, array([-0.12903786], dtype=float32), array([ 0.37937975], dtype=float32)])\n",
      "(52, [array([  1.94733024,   6.3982439 ,  10.84915733,  15.30007172], dtype=float32), 0.80791807, -0.12710577, 0.3737008, array([-0.12710577], dtype=float32), array([ 0.3737008], dtype=float32)])\n",
      "(53, [array([  1.92267084,   6.38629532,  10.84991932,  15.31354427], dtype=float32), 0.79245394, -0.12520087, 0.36810744, array([-0.12520087], dtype=float32), array([ 0.36810744], dtype=float32)])\n",
      "(54, [array([  1.89838052,   6.37452507,  10.85066986,  15.32681465], dtype=float32), 0.77744937, -0.12332529, 0.36259753, array([-0.12332529], dtype=float32), array([ 0.36259753], dtype=float32)])\n",
      "(55, [array([  1.87445331,   6.3629303 ,  10.85140705,  15.33988476], dtype=float32), 0.76289052, -0.12148148, 0.35716885, array([-0.12148148], dtype=float32), array([ 0.35716885], dtype=float32)])\n",
      "(56, [array([  1.85088491,   6.35151052,  10.85213661,  15.35276222], dtype=float32), 0.74876434, -0.11965883, 0.35182357, array([-0.11965883], dtype=float32), array([ 0.35182357], dtype=float32)])\n",
      "(57, [array([  1.82766819,   6.34025955,  10.85285091,  15.36544228], dtype=float32), 0.73505801, -0.11787271, 0.34655523, array([-0.11787271], dtype=float32), array([ 0.34655523], dtype=float32)])\n",
      "(58, [array([  1.80480003,   6.32917881,  10.85355759,  15.37793636], dtype=float32), 0.72175878, -0.11610603, 0.3413682, array([-0.11610603], dtype=float32), array([ 0.3413682], dtype=float32)])\n",
      "(59, [array([  1.78227377,   6.31826305,  10.85425186,  15.39024162], dtype=float32), 0.70885479, -0.11436951, 0.33625758, array([-0.11436951], dtype=float32), array([ 0.33625758], dtype=float32)])\n",
      "(60, [array([  1.76008487,   6.30751133,  10.85493755,  15.40236378], dtype=float32), 0.69633436, -0.11265618, 0.33122438, array([-0.11265618], dtype=float32), array([ 0.33122438], dtype=float32)])\n",
      "(61, [array([  1.73822808,   6.29691982,  10.8556118 ,  15.41430378], dtype=float32), 0.68418574, -0.11097044, 0.32626587, array([-0.11097044], dtype=float32), array([ 0.32626587], dtype=float32)])\n",
      "(62, [array([  1.71669841,   6.28648758,  10.85627651,  15.42606544], dtype=float32), 0.67239833, -0.10930878, 0.32138199, array([-0.10930878], dtype=float32), array([ 0.32138199], dtype=float32)])\n",
      "(63, [array([  1.69549131,   6.27621126,  10.85693169,  15.43765068], dtype=float32), 0.66096133, -0.1076721, 0.31657124, array([-0.1076721], dtype=float32), array([ 0.31657124], dtype=float32)])\n",
      "(64, [array([  1.67460108,   6.26608801,  10.85757446,  15.44906235], dtype=float32), 0.64986336, -0.10606253, 0.31183147, array([-0.10606253], dtype=float32), array([ 0.31183147], dtype=float32)])\n",
      "(65, [array([  1.65402412,   6.25611734,  10.85821152,  15.46030426], dtype=float32), 0.63909602, -0.1044724, 0.30716431, array([-0.1044724], dtype=float32), array([ 0.30716431], dtype=float32)])\n",
      "(66, [array([  1.63375473,   6.24629498,  10.85883522,  15.47137547], dtype=float32), 0.6286484, -0.10291195, 0.3025651, array([-0.10291195], dtype=float32), array([ 0.3025651], dtype=float32)])\n",
      "(67, [array([  1.61378932,   6.2366209 ,  10.85945225,  15.48228359], dtype=float32), 0.6185112, -0.10136944, 0.29803652, array([-0.10136944], dtype=float32), array([ 0.29803652], dtype=float32)])\n",
      "(68, [array([  1.59412265,   6.22709084,  10.86005878,  15.49302769], dtype=float32), 0.60867506, -0.099852145, 0.29357499, array([-0.09985214], dtype=float32), array([ 0.29357499], dtype=float32)])\n",
      "(69, [array([  1.57475066,   6.21770477,  10.86065865,  15.50361252], dtype=float32), 0.59913152, -0.098353446, 0.28918165, array([-0.09835345], dtype=float32), array([ 0.28918165], dtype=float32)])\n",
      "(70, [array([  1.55566764,   6.20845699,  10.86124611,  15.51403522], dtype=float32), 0.58987135, -0.096884787, 0.28485149, array([-0.09688479], dtype=float32), array([ 0.28485149], dtype=float32)])\n",
      "(71, [array([  1.53687096,   6.19934845,  10.86182594,  15.52430344], dtype=float32), 0.58088642, -0.095435143, 0.2805872, array([-0.09543514], dtype=float32), array([ 0.2805872], dtype=float32)])\n",
      "(72, [array([  1.51835561,   6.19037628,  10.86239719,  15.53441811], dtype=float32), 0.57216847, -0.094006956, 0.2763868, array([-0.09400696], dtype=float32), array([ 0.2763868], dtype=float32)])\n",
      "(73, [array([  1.50011778,   6.18153954,  10.86296177,  15.54438305], dtype=float32), 0.56370962, -0.092596412, 0.27225053, array([-0.09259641], dtype=float32), array([ 0.27225053], dtype=float32)])\n",
      "(74, [array([  1.48215246,   6.17283392,  10.86351585,  15.55419731], dtype=float32), 0.55550194, -0.091210723, 0.26817489, array([-0.09121072], dtype=float32), array([ 0.26817489], dtype=float32)])\n",
      "(75, [array([  1.46445584,   6.164258  ,  10.8640604 ,  15.5638628 ], dtype=float32), 0.54753828, -0.089848936, 0.26415926, array([-0.08984894], dtype=float32), array([ 0.26415926], dtype=float32)])\n",
      "(76, [array([  1.44702506,   6.15581226,  10.86459923,  15.57338715], dtype=float32), 0.53981119, -0.088501036, 0.26020592, array([-0.08850104], dtype=float32), array([ 0.26020592], dtype=float32)])\n",
      "(77, [array([  1.42985463,   6.14749241,  10.86512947,  15.58276749], dtype=float32), 0.53231388, -0.087175548, 0.256311, array([-0.08717555], dtype=float32), array([ 0.256311], dtype=float32)])\n",
      "(78, [array([  1.41294098,   6.13929605,  10.86565208,  15.59200668], dtype=float32), 0.52503932, -0.085870981, 0.25247395, array([-0.08587098], dtype=float32), array([ 0.25247395], dtype=float32)])\n",
      "(79, [array([  1.39628053,   6.13122272,  10.86616516,  15.60110664], dtype=float32), 0.51798099, -0.084587991, 0.24869376, array([-0.08458799], dtype=float32), array([ 0.24869376], dtype=float32)])\n",
      "(80, [array([  1.3798697 ,   6.12327003,  10.86667061,  15.61007118], dtype=float32), 0.51113212, -0.083323419, 0.24497038, array([-0.08332342], dtype=float32), array([ 0.24497038], dtype=float32)])\n",
      "(81, [array([  1.36370492,   6.11543751,  10.86717033,  15.61890316], dtype=float32), 0.50448692, -0.082074106, 0.24130398, array([-0.08207411], dtype=float32), array([ 0.24130398], dtype=float32)])\n",
      "(82, [array([  1.3477819 ,   6.10772228,  10.86766243,  15.62760258], dtype=float32), 0.49803919, -0.080843985, 0.2376923, array([-0.08084399], dtype=float32), array([ 0.2376923], dtype=float32)])\n",
      "(83, [array([  1.33209705,   6.1001215 ,  10.86814594,  15.63617039], dtype=float32), 0.49178305, -0.079635143, 0.23413372, array([-0.07963514], dtype=float32), array([ 0.23413372], dtype=float32)])\n",
      "(84, [array([  1.31664729,   6.09263515,  10.86862373,  15.64461136], dtype=float32), 0.48571283, -0.078441441, 0.23062938, array([-0.07844144], dtype=float32), array([ 0.23062938], dtype=float32)])\n",
      "(85, [array([  1.30142832,   6.08526039,  10.86909199,  15.65292454], dtype=float32), 0.47982281, -0.077269197, 0.22717631, array([-0.0772692], dtype=float32), array([ 0.22717631], dtype=float32)])\n",
      "(86, [array([  1.28643775,   6.07799721,  10.86955643,  15.66111565], dtype=float32), 0.47410804, -0.076108992, 0.22377676, array([-0.07610899], dtype=float32), array([ 0.22377676], dtype=float32)])\n",
      "(87, [array([  1.27167082,   6.07084084,  10.87001133,  15.66918087], dtype=float32), 0.46856305, -0.07497251, 0.22042596, array([-0.07497251], dtype=float32), array([ 0.22042596], dtype=float32)])\n",
      "(88, [array([  1.25712562,   6.06379318,  10.87046051,  15.67712784], dtype=float32), 0.46318272, -0.073848784, 0.21712679, array([-0.07384878], dtype=float32), array([ 0.21712679], dtype=float32)])\n",
      "(89, [array([  1.24279761,   6.05684948,  10.87090111,  15.68495369], dtype=float32), 0.45796216, -0.072746336, 0.21387547, array([-0.07274634], dtype=float32), array([ 0.21387547], dtype=float32)])\n",
      "(90, [array([  1.22868466,   6.05001163,  10.87133789,  15.6926651 ], dtype=float32), 0.45289689, -0.071654499, 0.21067482, array([-0.0716545], dtype=float32), array([ 0.21067482], dtype=float32)])\n",
      "(91, [array([  1.21478271,   6.04327488,  10.87176704,  15.70025921], dtype=float32), 0.44798225, -0.07058239, 0.20752096, array([-0.07058239], dtype=float32), array([ 0.20752096], dtype=float32)])\n",
      "(92, [array([  1.20108867,   6.03663921,  10.87218952,  15.70773983], dtype=float32), 0.44321355, -0.069526255, 0.20441431, array([-0.06952626], dtype=float32), array([ 0.20441431], dtype=float32)])\n",
      "(93, [array([  1.1875999 ,   6.03010273,  10.87260628,  15.71510887], dtype=float32), 0.43858653, -0.068485081, 0.20135444, array([-0.06848508], dtype=float32), array([ 0.20135444], dtype=float32)])\n",
      "(94, [array([  1.17431283,   6.02366447,  10.8730154 ,  15.72236729], dtype=float32), 0.4340969, -0.067460716, 0.19834, array([-0.06746072], dtype=float32), array([ 0.19834], dtype=float32)])\n",
      "(95, [array([  1.16122508,   6.01732254,  10.87341976,  15.72951794], dtype=float32), 0.42974067, -0.066449702, 0.19537133, array([-0.0664497], dtype=float32), array([ 0.19537133], dtype=float32)])\n",
      "(96, [array([  1.14833307,   6.01107597,  10.8738184 ,  15.73656178], dtype=float32), 0.42551401, -0.065453172, 0.1924473, array([-0.06545317], dtype=float32), array([ 0.1924473], dtype=float32)])\n",
      "(97, [array([  1.13563395,   6.00492239,  10.87421036,  15.74349976], dtype=float32), 0.42141274, -0.064472795, 0.18956661, array([-0.06447279], dtype=float32), array([ 0.18956661], dtype=float32)])\n",
      "(98, [array([  1.1231246 ,   5.99886036,  10.87459564,  15.75033188], dtype=float32), 0.41743371, -0.06351006, 0.18672812, array([-0.06351006], dtype=float32), array([ 0.18672812], dtype=float32)])\n",
      "(99, [array([  1.11080289,   5.9928894 ,  10.87497616,  15.75706291], dtype=float32), 0.41357282, -0.062559545, 0.18393284, array([-0.06255955], dtype=float32), array([ 0.18393284], dtype=float32)])\n"
     ]
    }
   ],
   "source": [
    "# Start new session\n",
    "\n",
    "sess = tf.Session()\n",
    "sess.run(tf.global_variables_initializer())\n",
    "\n",
    "# Run gradient descent\n",
    "for step in range(100):\n",
    "    print(step, sess.run([yHat, cost, gradient_w, gradient_b, gradient_ow, gradient_ob], feed_dict={X_train:X, Y_train:Y}))\n",
    "    sess.run([optimizer], feed_dict={X_train:X, Y_train:Y})\n",
    "    \n",
    "sess.close()"
   ]
  },
  {
   "cell_type": "code",
   "execution_count": null,
   "metadata": {
    "collapsed": true
   },
   "outputs": [],
   "source": []
  }
 ],
 "metadata": {
  "kernelspec": {
   "display_name": "Python 2",
   "language": "python",
   "name": "python2"
  },
  "language_info": {
   "codemirror_mode": {
    "name": "ipython",
    "version": 2
   },
   "file_extension": ".py",
   "mimetype": "text/x-python",
   "name": "python",
   "nbconvert_exporter": "python",
   "pygments_lexer": "ipython2",
   "version": "2.7.13"
  }
 },
 "nbformat": 4,
 "nbformat_minor": 2
}
