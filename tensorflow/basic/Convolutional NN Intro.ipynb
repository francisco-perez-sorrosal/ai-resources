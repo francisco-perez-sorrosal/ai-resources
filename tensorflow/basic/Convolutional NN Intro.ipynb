{
 "cells": [
  {
   "cell_type": "markdown",
   "metadata": {},
   "source": [
    "# A Basic Convolutional NN\n",
    "Let's generalize an image object based on the figure below. \n",
    "![BasicConvo](BasicConvo.png \"Convolutional Definition\")"
   ]
  },
  {
   "cell_type": "code",
   "execution_count": 1,
   "metadata": {
    "collapsed": true
   },
   "outputs": [],
   "source": [
    "import tensorflow as tf\n",
    "import numpy as np"
   ]
  },
  {
   "cell_type": "markdown",
   "metadata": {},
   "source": [
    "An image in this example is going to have multiple channels (RGB) of size 28x28 pixels. Each pixel has 3 intensities (R, G, B) instead on only one value (grey scale). Let's say there are 4 images - (batch size = 4). Now place holder is going to look like this:"
   ]
  },
  {
   "cell_type": "code",
   "execution_count": 2,
   "metadata": {
    "collapsed": false,
    "scrolled": true
   },
   "outputs": [],
   "source": [
    "n_of_input_images=4\n",
    "\n",
    "x = tf.placeholder(tf.float32, [None, 28, 28, 3])"
   ]
  },
  {
   "cell_type": "markdown",
   "metadata": {},
   "source": [
    "None above, indicates the number of images. The other dimensions are size (28x28 pixel) and pixel values in RGB.\n",
    "\n",
    "Now we want to apply filters of 4x4 on each of these channels (RGB) - we need 3 weight matrices (4x4) one for each of these input channels. We also want to have 2 filters (output channels.) Then weight would be variable of type [4, 4, 3, 2]  (filter size = 4x4, input channels = 3, output channels (aka volume) = 2).\n",
    "\n",
    "We're going to initialize all of these weights to 1 (instead of random,) just to make computations easier.\n",
    "\n",
    "The biases there are going to be initialized 1 (one for each output channel.) All neurons in a given output channel share the same bias."
   ]
  },
  {
   "cell_type": "code",
   "execution_count": 13,
   "metadata": {
    "collapsed": false
   },
   "outputs": [],
   "source": [
    "W = tf.Variable(tf.ones([4, 4, 3, 2]))\n",
    "b = tf.Variable(tf.ones([2]))"
   ]
  },
  {
   "cell_type": "markdown",
   "metadata": {},
   "source": [
    "Let's define the TF conv2d operation. Strides dimensions indicates move one pixel in x and y directions, no padding (See [this](https://www.tensorflow.org/api_docs/python/tf/nn/conv2d))\n",
    "\n",
    "For the 'VALID' padding, the output height and width are computed as:\n",
    "\n",
    "1. out_height = ceil(float(in_height - filter_height + 1) / float(strides[1]))\n",
    "2. out_width  = ceil(float(in_width - filter_width + 1) / float(strides[2]))"
   ]
  },
  {
   "cell_type": "code",
   "execution_count": 27,
   "metadata": {
    "collapsed": false
   },
   "outputs": [
    {
     "data": {
      "text/plain": [
       "<tf.Tensor 'add_16:0' shape=(?, 25, 25, 2) dtype=float32>"
      ]
     },
     "execution_count": 27,
     "metadata": {},
     "output_type": "execute_result"
    }
   ],
   "source": [
    "m = tf.nn.conv2d(x, W, strides=[1, 1, 1, 1], padding='VALID') + b\n",
    "m"
   ]
  },
  {
   "cell_type": "markdown",
   "metadata": {},
   "source": [
    "Let's create the session object and evaluate m by feeding x with all values as ones (just 2 images)"
   ]
  },
  {
   "cell_type": "code",
   "execution_count": 7,
   "metadata": {
    "collapsed": false
   },
   "outputs": [
    {
     "data": {
      "text/plain": [
       "(4, 25, 25, 2)"
      ]
     },
     "execution_count": 7,
     "metadata": {},
     "output_type": "execute_result"
    }
   ],
   "source": [
    "sess = tf.Session()\n",
    "sess.run(tf.global_variables_initializer())# Initialize W and b\n",
    "z = sess.run(m, feed_dict={x:np.ones([n_of_input_images, 28, 28, 3])})\n",
    "z.shape"
   ]
  },
  {
   "cell_type": "markdown",
   "metadata": {},
   "source": [
    "Each element would be 49. Let's verify this - one channel matrix [4, 4] - all ones with input [4, 4] all ones, weighted sum would be 16, 3 channels (so three weight matrix multiplications) = 16 + 16 + 16 = 48 then finally add bias 1 to it."
   ]
  },
  {
   "cell_type": "code",
   "execution_count": 24,
   "metadata": {
    "collapsed": false
   },
   "outputs": [
    {
     "data": {
      "text/plain": [
       "array([[[[ 49.,  49.],\n",
       "         [ 49.,  49.],\n",
       "         [ 49.,  49.],\n",
       "         ..., \n",
       "         [ 49.,  49.],\n",
       "         [ 49.,  49.],\n",
       "         [ 49.,  49.]],\n",
       "\n",
       "        [[ 49.,  49.],\n",
       "         [ 49.,  49.],\n",
       "         [ 49.,  49.],\n",
       "         ..., \n",
       "         [ 49.,  49.],\n",
       "         [ 49.,  49.],\n",
       "         [ 49.,  49.]],\n",
       "\n",
       "        [[ 49.,  49.],\n",
       "         [ 49.,  49.],\n",
       "         [ 49.,  49.],\n",
       "         ..., \n",
       "         [ 49.,  49.],\n",
       "         [ 49.,  49.],\n",
       "         [ 49.,  49.]],\n",
       "\n",
       "        ..., \n",
       "        [[ 49.,  49.],\n",
       "         [ 49.,  49.],\n",
       "         [ 49.,  49.],\n",
       "         ..., \n",
       "         [ 49.,  49.],\n",
       "         [ 49.,  49.],\n",
       "         [ 49.,  49.]],\n",
       "\n",
       "        [[ 49.,  49.],\n",
       "         [ 49.,  49.],\n",
       "         [ 49.,  49.],\n",
       "         ..., \n",
       "         [ 49.,  49.],\n",
       "         [ 49.,  49.],\n",
       "         [ 49.,  49.]],\n",
       "\n",
       "        [[ 49.,  49.],\n",
       "         [ 49.,  49.],\n",
       "         [ 49.,  49.],\n",
       "         ..., \n",
       "         [ 49.,  49.],\n",
       "         [ 49.,  49.],\n",
       "         [ 49.,  49.]]],\n",
       "\n",
       "\n",
       "       [[[ 49.,  49.],\n",
       "         [ 49.,  49.],\n",
       "         [ 49.,  49.],\n",
       "         ..., \n",
       "         [ 49.,  49.],\n",
       "         [ 49.,  49.],\n",
       "         [ 49.,  49.]],\n",
       "\n",
       "        [[ 49.,  49.],\n",
       "         [ 49.,  49.],\n",
       "         [ 49.,  49.],\n",
       "         ..., \n",
       "         [ 49.,  49.],\n",
       "         [ 49.,  49.],\n",
       "         [ 49.,  49.]],\n",
       "\n",
       "        [[ 49.,  49.],\n",
       "         [ 49.,  49.],\n",
       "         [ 49.,  49.],\n",
       "         ..., \n",
       "         [ 49.,  49.],\n",
       "         [ 49.,  49.],\n",
       "         [ 49.,  49.]],\n",
       "\n",
       "        ..., \n",
       "        [[ 49.,  49.],\n",
       "         [ 49.,  49.],\n",
       "         [ 49.,  49.],\n",
       "         ..., \n",
       "         [ 49.,  49.],\n",
       "         [ 49.,  49.],\n",
       "         [ 49.,  49.]],\n",
       "\n",
       "        [[ 49.,  49.],\n",
       "         [ 49.,  49.],\n",
       "         [ 49.,  49.],\n",
       "         ..., \n",
       "         [ 49.,  49.],\n",
       "         [ 49.,  49.],\n",
       "         [ 49.,  49.]],\n",
       "\n",
       "        [[ 49.,  49.],\n",
       "         [ 49.,  49.],\n",
       "         [ 49.,  49.],\n",
       "         ..., \n",
       "         [ 49.,  49.],\n",
       "         [ 49.,  49.],\n",
       "         [ 49.,  49.]]],\n",
       "\n",
       "\n",
       "       [[[ 49.,  49.],\n",
       "         [ 49.,  49.],\n",
       "         [ 49.,  49.],\n",
       "         ..., \n",
       "         [ 49.,  49.],\n",
       "         [ 49.,  49.],\n",
       "         [ 49.,  49.]],\n",
       "\n",
       "        [[ 49.,  49.],\n",
       "         [ 49.,  49.],\n",
       "         [ 49.,  49.],\n",
       "         ..., \n",
       "         [ 49.,  49.],\n",
       "         [ 49.,  49.],\n",
       "         [ 49.,  49.]],\n",
       "\n",
       "        [[ 49.,  49.],\n",
       "         [ 49.,  49.],\n",
       "         [ 49.,  49.],\n",
       "         ..., \n",
       "         [ 49.,  49.],\n",
       "         [ 49.,  49.],\n",
       "         [ 49.,  49.]],\n",
       "\n",
       "        ..., \n",
       "        [[ 49.,  49.],\n",
       "         [ 49.,  49.],\n",
       "         [ 49.,  49.],\n",
       "         ..., \n",
       "         [ 49.,  49.],\n",
       "         [ 49.,  49.],\n",
       "         [ 49.,  49.]],\n",
       "\n",
       "        [[ 49.,  49.],\n",
       "         [ 49.,  49.],\n",
       "         [ 49.,  49.],\n",
       "         ..., \n",
       "         [ 49.,  49.],\n",
       "         [ 49.,  49.],\n",
       "         [ 49.,  49.]],\n",
       "\n",
       "        [[ 49.,  49.],\n",
       "         [ 49.,  49.],\n",
       "         [ 49.,  49.],\n",
       "         ..., \n",
       "         [ 49.,  49.],\n",
       "         [ 49.,  49.],\n",
       "         [ 49.,  49.]]],\n",
       "\n",
       "\n",
       "       [[[ 49.,  49.],\n",
       "         [ 49.,  49.],\n",
       "         [ 49.,  49.],\n",
       "         ..., \n",
       "         [ 49.,  49.],\n",
       "         [ 49.,  49.],\n",
       "         [ 49.,  49.]],\n",
       "\n",
       "        [[ 49.,  49.],\n",
       "         [ 49.,  49.],\n",
       "         [ 49.,  49.],\n",
       "         ..., \n",
       "         [ 49.,  49.],\n",
       "         [ 49.,  49.],\n",
       "         [ 49.,  49.]],\n",
       "\n",
       "        [[ 49.,  49.],\n",
       "         [ 49.,  49.],\n",
       "         [ 49.,  49.],\n",
       "         ..., \n",
       "         [ 49.,  49.],\n",
       "         [ 49.,  49.],\n",
       "         [ 49.,  49.]],\n",
       "\n",
       "        ..., \n",
       "        [[ 49.,  49.],\n",
       "         [ 49.,  49.],\n",
       "         [ 49.,  49.],\n",
       "         ..., \n",
       "         [ 49.,  49.],\n",
       "         [ 49.,  49.],\n",
       "         [ 49.,  49.]],\n",
       "\n",
       "        [[ 49.,  49.],\n",
       "         [ 49.,  49.],\n",
       "         [ 49.,  49.],\n",
       "         ..., \n",
       "         [ 49.,  49.],\n",
       "         [ 49.,  49.],\n",
       "         [ 49.,  49.]],\n",
       "\n",
       "        [[ 49.,  49.],\n",
       "         [ 49.,  49.],\n",
       "         [ 49.,  49.],\n",
       "         ..., \n",
       "         [ 49.,  49.],\n",
       "         [ 49.,  49.],\n",
       "         [ 49.,  49.]]]], dtype=float32)"
      ]
     },
     "execution_count": 24,
     "metadata": {},
     "output_type": "execute_result"
    }
   ],
   "source": [
    "z"
   ]
  },
  {
   "cell_type": "markdown",
   "metadata": {},
   "source": [
    "2 activation maps (or output channels) x n_of_input_images"
   ]
  },
  {
   "cell_type": "code",
   "execution_count": null,
   "metadata": {
    "collapsed": true
   },
   "outputs": [],
   "source": []
  }
 ],
 "metadata": {
  "kernelspec": {
   "display_name": "Python 2",
   "language": "python",
   "name": "python2"
  },
  "language_info": {
   "codemirror_mode": {
    "name": "ipython",
    "version": 2
   },
   "file_extension": ".py",
   "mimetype": "text/x-python",
   "name": "python",
   "nbconvert_exporter": "python",
   "pygments_lexer": "ipython2",
   "version": "2.7.13"
  }
 },
 "nbformat": 4,
 "nbformat_minor": 2
}
