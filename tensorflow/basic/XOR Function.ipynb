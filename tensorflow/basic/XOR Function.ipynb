{
 "cells": [
  {
   "cell_type": "markdown",
   "metadata": {},
   "source": [
    "![XORConvo](XOR.png \"XOR Convolutional Definition\")"
   ]
  },
  {
   "cell_type": "code",
   "execution_count": 7,
   "metadata": {
    "collapsed": false
   },
   "outputs": [
    {
     "name": "stdout",
     "output_type": "stream",
     "text": [
      "19999 0.00688332 [[ 0.00840634]\n",
      " [ 0.99379951]\n",
      " [ 0.9937883 ]\n",
      " [ 0.00661854]]\n"
     ]
    }
   ],
   "source": [
    "import tensorflow as tf\n",
    "\n",
    "# Place hodler for input and labels\n",
    "X = tf.placeholder(tf.float32, shape=[4,2], name=\"input\")\n",
    "Y = tf.placeholder(tf.float32, shape=[4,1], name=\"labels\")\n",
    "\n",
    "# Weights/bias for hidden layer\n",
    "W1 = tf.Variable(tf.random_uniform([2,2], -1, 1), name=\"W1\")\n",
    "b1 = tf.Variable(tf.zeros([2]), name=\"b1\")\n",
    "\n",
    "# Weights/bias for output layer\n",
    "W2 = tf.Variable(tf.random_uniform([2,1], -1, 1), name=\"W2\")\n",
    "b2= tf.Variable(tf.zeros([1]), name=\"b2\")\n",
    "\n",
    "# Computational graph\n",
    "A2 = tf.sigmoid(tf.matmul(X, W1) + b1)\n",
    "YHat = tf.sigmoid(tf.matmul(A2, W2) + b2)\n",
    "\n",
    "# Cost function\n",
    "loss = tf.reduce_mean(( (Y * tf.log(YHat)) + \n",
    "            ((1 - Y) * tf.log(1.0 - YHat)) ) * -1)\n",
    "\n",
    "# Optimizer\n",
    "train_step = tf.train.GradientDescentOptimizer(0.1).minimize(loss)\n",
    "\n",
    "# Input and labels\n",
    "XOR_X = [[0,0],[0,1],[1,0],[1,1]]\n",
    "XOR_Y = [[0],[1],[1],[0]]\n",
    "\n",
    "writer = tf.summary.FileWriter(\"./xor_logs\", graph=tf.get_default_graph())\n",
    "\n",
    "# Create session \n",
    "sess = tf.Session()\n",
    "sess.run(tf.global_variables_initializer())\n",
    "for i in range(20000):\n",
    "    sess.run(train_step, feed_dict={X: XOR_X, Y: XOR_Y})\n",
    "    cost, yhat  = sess.run([loss, YHat], feed_dict={X: XOR_X, Y: XOR_Y})\n",
    "print i, cost, yhat\n"
   ]
  },
  {
   "cell_type": "code",
   "execution_count": null,
   "metadata": {
    "collapsed": true
   },
   "outputs": [],
   "source": []
  }
 ],
 "metadata": {
  "kernelspec": {
   "display_name": "Python 2",
   "language": "python",
   "name": "python2"
  },
  "language_info": {
   "codemirror_mode": {
    "name": "ipython",
    "version": 2
   },
   "file_extension": ".py",
   "mimetype": "text/x-python",
   "name": "python",
   "nbconvert_exporter": "python",
   "pygments_lexer": "ipython2",
   "version": "2.7.13"
  }
 },
 "nbformat": 4,
 "nbformat_minor": 2
}
