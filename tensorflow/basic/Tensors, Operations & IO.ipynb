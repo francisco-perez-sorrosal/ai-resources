{
 "cells": [
  {
   "cell_type": "markdown",
   "metadata": {},
   "source": [
    "# Small Computational Graph in Python Using TF\n",
    "\n",
    "The goal is to explore nodes (Operations) and their inputs and output (Tensors)\n",
    "\n",
    "Build a small computational graph for matrix multiplication. TensorFlow has a default graph once you import tensorflow."
   ]
  },
  {
   "cell_type": "markdown",
   "metadata": {},
   "source": [
    "## Steps"
   ]
  },
  {
   "cell_type": "markdown",
   "metadata": {},
   "source": [
    "Import TF library"
   ]
  },
  {
   "cell_type": "code",
   "execution_count": 1,
   "metadata": {
    "collapsed": true
   },
   "outputs": [],
   "source": [
    "import tensorflow as tf"
   ]
  },
  {
   "cell_type": "markdown",
   "metadata": {},
   "source": [
    "TensorFlow has a default graph once you import tensorflow"
   ]
  },
  {
   "cell_type": "code",
   "execution_count": 2,
   "metadata": {
    "collapsed": true
   },
   "outputs": [],
   "source": [
    "graph = tf.get_default_graph()"
   ]
  },
  {
   "cell_type": "markdown",
   "metadata": {},
   "source": [
    "Add two 2x2 matrices a and b as imputs to the operation node to the default graph. The result of these definitios will be two Tensors we called a and b"
   ]
  },
  {
   "cell_type": "code",
   "execution_count": 3,
   "metadata": {
    "collapsed": false
   },
   "outputs": [
    {
     "name": "stdout",
     "output_type": "stream",
     "text": [
      "Tensor(\"matrix_a:0\", shape=(2, 2), dtype=int32)\n",
      "Tensor(\"matrix_b:0\", shape=(2, 2), dtype=int32)\n"
     ]
    }
   ],
   "source": [
    "a = tf.constant([[1, 2],[3,4]], name=\"matrix_a\")\n",
    "b = tf.constant([[3, 4],[1,2]], name=\"matrix_b\")\n",
    "\n",
    "print(a)\n",
    "print(b)"
   ]
  },
  {
   "cell_type": "markdown",
   "metadata": {},
   "source": [
    "Add 'matmul_output_1' as operation node (matmul) with the 2 inputs defined above and just one output (the result of the matrix multiplication, which is also a 2x2 matrix.) This returns a Tensor we called t"
   ]
  },
  {
   "cell_type": "code",
   "execution_count": 4,
   "metadata": {
    "collapsed": false
   },
   "outputs": [
    {
     "name": "stdout",
     "output_type": "stream",
     "text": [
      "Tensor(\"matmul_output_1:0\", shape=(2, 2), dtype=int32)\n"
     ]
    }
   ],
   "source": [
    "t = tf.matmul(a, b, name=\"matmul_output_1\")\n",
    "\n",
    "print(t)"
   ]
  },
  {
   "cell_type": "markdown",
   "metadata": {},
   "source": [
    "Now we can check operations on graph object (operations are represented as nodes)"
   ]
  },
  {
   "cell_type": "code",
   "execution_count": 5,
   "metadata": {
    "collapsed": false
   },
   "outputs": [
    {
     "data": {
      "text/plain": [
       "[<tf.Operation 'matrix_a' type=Const>,\n",
       " <tf.Operation 'matrix_b' type=Const>,\n",
       " <tf.Operation 'matmul_output_1' type=MatMul>]"
      ]
     },
     "execution_count": 5,
     "metadata": {},
     "output_type": "execute_result"
    }
   ],
   "source": [
    "graph.get_operations()"
   ]
  },
  {
   "cell_type": "markdown",
   "metadata": {},
   "source": [
    "Now we can explore the different operations in 'matmul_output_1' operation node. To check all available methods in the operation we use: dir(op_mul)"
   ]
  },
  {
   "cell_type": "code",
   "execution_count": 6,
   "metadata": {
    "collapsed": false
   },
   "outputs": [
    {
     "data": {
      "text/plain": [
       "['_InputList',\n",
       " '__class__',\n",
       " '__delattr__',\n",
       " '__dict__',\n",
       " '__dir__',\n",
       " '__doc__',\n",
       " '__eq__',\n",
       " '__format__',\n",
       " '__ge__',\n",
       " '__getattribute__',\n",
       " '__gt__',\n",
       " '__hash__',\n",
       " '__init__',\n",
       " '__init_subclass__',\n",
       " '__le__',\n",
       " '__lt__',\n",
       " '__module__',\n",
       " '__ne__',\n",
       " '__new__',\n",
       " '__reduce__',\n",
       " '__reduce_ex__',\n",
       " '__repr__',\n",
       " '__setattr__',\n",
       " '__sizeof__',\n",
       " '__str__',\n",
       " '__subclasshook__',\n",
       " '__weakref__',\n",
       " '_add_control_input',\n",
       " '_add_control_inputs',\n",
       " '_add_input',\n",
       " '_control_flow_context',\n",
       " '_control_inputs',\n",
       " '_get_control_flow_context',\n",
       " '_graph',\n",
       " '_id',\n",
       " '_id_value',\n",
       " '_input_dtypes',\n",
       " '_input_types',\n",
       " '_inputs',\n",
       " '_node_def',\n",
       " '_op_def',\n",
       " '_original_op',\n",
       " '_output_types',\n",
       " '_outputs',\n",
       " '_recompute_node_def',\n",
       " '_set_control_flow_context',\n",
       " '_set_device',\n",
       " '_traceback',\n",
       " '_update_input',\n",
       " 'colocation_groups',\n",
       " 'control_inputs',\n",
       " 'device',\n",
       " 'get_attr',\n",
       " 'graph',\n",
       " 'inputs',\n",
       " 'name',\n",
       " 'node_def',\n",
       " 'op_def',\n",
       " 'outputs',\n",
       " 'run',\n",
       " 'traceback',\n",
       " 'type',\n",
       " 'values']"
      ]
     },
     "execution_count": 6,
     "metadata": {},
     "output_type": "execute_result"
    }
   ],
   "source": [
    "op_mul = graph.get_operation_by_name(\"matmul_output_1\")\n",
    "dir(op_mul)"
   ]
  },
  {
   "cell_type": "markdown",
   "metadata": {},
   "source": [
    "We can explore various basic methods available on the operation:"
   ]
  },
  {
   "cell_type": "code",
   "execution_count": 7,
   "metadata": {
    "collapsed": false
   },
   "outputs": [
    {
     "name": "stdout",
     "output_type": "stream",
     "text": [
      "Node def:  name: \"matmul_output_1\"\n",
      "op: \"MatMul\"\n",
      "input: \"matrix_a\"\n",
      "input: \"matrix_b\"\n",
      "attr {\n",
      "  key: \"T\"\n",
      "  value {\n",
      "    type: DT_INT32\n",
      "  }\n",
      "}\n",
      "attr {\n",
      "  key: \"transpose_a\"\n",
      "  value {\n",
      "    b: false\n",
      "  }\n",
      "}\n",
      "attr {\n",
      "  key: \"transpose_b\"\n",
      "  value {\n",
      "    b: false\n",
      "  }\n",
      "}\n",
      "\n",
      "----------------------------------------------------------------------------------------------------\n",
      "Op def:  name: \"MatMul\"\n",
      "input_arg {\n",
      "  name: \"a\"\n",
      "  type_attr: \"T\"\n",
      "}\n",
      "input_arg {\n",
      "  name: \"b\"\n",
      "  type_attr: \"T\"\n",
      "}\n",
      "output_arg {\n",
      "  name: \"product\"\n",
      "  type_attr: \"T\"\n",
      "}\n",
      "attr {\n",
      "  name: \"transpose_a\"\n",
      "  type: \"bool\"\n",
      "  default_value {\n",
      "    b: false\n",
      "  }\n",
      "}\n",
      "attr {\n",
      "  name: \"transpose_b\"\n",
      "  type: \"bool\"\n",
      "  default_value {\n",
      "    b: false\n",
      "  }\n",
      "}\n",
      "attr {\n",
      "  name: \"T\"\n",
      "  type: \"type\"\n",
      "  allowed_values {\n",
      "    list {\n",
      "      type: DT_HALF\n",
      "      type: DT_FLOAT\n",
      "      type: DT_DOUBLE\n",
      "      type: DT_INT32\n",
      "      type: DT_COMPLEX64\n",
      "      type: DT_COMPLEX128\n",
      "    }\n",
      "  }\n",
      "}\n",
      "\n"
     ]
    }
   ],
   "source": [
    "print(\"Node def: \", op_mul.node_def)\n",
    "print(\"----------------------------------------------------------------------------------------------------\")\n",
    "print(\"Op def: \", op_mul.op_def)"
   ]
  },
  {
   "cell_type": "markdown",
   "metadata": {},
   "source": [
    "e.g. Regarding the inputs and outputs, we observe:"
   ]
  },
  {
   "cell_type": "code",
   "execution_count": 8,
   "metadata": {
    "collapsed": false
   },
   "outputs": [
    {
     "name": "stdout",
     "output_type": "stream",
     "text": [
      "Input:  Tensor(\"matrix_a:0\", shape=(2, 2), dtype=int32)\n",
      "Input:  Tensor(\"matrix_b:0\", shape=(2, 2), dtype=int32)\n",
      "----------------------------------------------------------------------------------------------------\n",
      "Ouptut:  Tensor(\"matmul_output_1:0\", shape=(2, 2), dtype=int32)\n"
     ]
    }
   ],
   "source": [
    "for input in op_mul.inputs: \n",
    "    print(\"Input: \", input)\n",
    "print(\"----------------------------------------------------------------------------------------------------\")\n",
    "for output in op_mul.outputs: \n",
    "    print(\"Ouptut: \", output)"
   ]
  },
  {
   "cell_type": "markdown",
   "metadata": {},
   "source": [
    "Similarly explore various operations available on node: output, node_def, op_def"
   ]
  },
  {
   "cell_type": "markdown",
   "metadata": {},
   "source": [
    "Finally, we can create a TF session and execute the evaluation of the tensor t:"
   ]
  },
  {
   "cell_type": "code",
   "execution_count": 9,
   "metadata": {
    "collapsed": false
   },
   "outputs": [
    {
     "name": "stdout",
     "output_type": "stream",
     "text": [
      "Tensor value as numpy array:  [[ 5  8]\n",
      " [13 20]]\n"
     ]
    }
   ],
   "source": [
    "sess = tf.Session()\n",
    "\n",
    "matmul_result = t.eval(session=sess)\n",
    "\n",
    "print(\"Tensor value as numpy array: \", matmul_result)"
   ]
  },
  {
   "cell_type": "markdown",
   "metadata": {},
   "source": [
    "We can also specify transformations on the tensor itself (e.g. transpose the result of the current state)"
   ]
  },
  {
   "cell_type": "code",
   "execution_count": 10,
   "metadata": {
    "collapsed": false
   },
   "outputs": [
    {
     "name": "stdout",
     "output_type": "stream",
     "text": [
      "Current Tensor state transposed: [[ 5 13]\n",
      " [ 8 20]]\n"
     ]
    }
   ],
   "source": [
    "print(\"Current Tensor state transposed:\", tf.transpose(t).eval(session=sess))"
   ]
  },
  {
   "cell_type": "code",
   "execution_count": null,
   "metadata": {
    "collapsed": true
   },
   "outputs": [],
   "source": []
  }
 ],
 "metadata": {
  "kernelspec": {
   "display_name": "Python 2",
   "language": "python",
   "name": "python2"
  },
  "language_info": {
   "codemirror_mode": {
    "name": "ipython",
    "version": 2
   },
   "file_extension": ".py",
   "mimetype": "text/x-python",
   "name": "python",
   "nbconvert_exporter": "python",
   "pygments_lexer": "ipython2",
   "version": "2.7.13"
  }
 },
 "nbformat": 4,
 "nbformat_minor": 2
}
