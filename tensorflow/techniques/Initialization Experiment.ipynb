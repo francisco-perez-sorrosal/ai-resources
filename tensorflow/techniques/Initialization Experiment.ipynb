{
 "cells": [
  {
   "cell_type": "code",
   "execution_count": 46,
   "metadata": {
    "collapsed": false
   },
   "outputs": [
    {
     "name": "stdout",
     "output_type": "stream",
     "text": [
      "[[-1.3506006  -1.44919395 -1.84073877 ...,  0.27401546  0.44146439\n",
      "  -0.86240041]\n",
      " [ 0.18616559  1.9196769  -1.49231827 ...,  1.74128735  1.3574034\n",
      "  -0.60781384]\n",
      " [ 0.4765659  -0.38291004  1.54308915 ..., -0.37201849  1.45425463\n",
      "  -0.97414458]\n",
      " ..., \n",
      " [-0.64884758  1.55176115 -0.77908283 ...,  0.47215492  0.35867131\n",
      "   0.30688319]\n",
      " [-0.10884814  1.32305515  2.88238907 ...,  2.86241245  0.47126377\n",
      "  -1.19728875]\n",
      " [-1.62330163  0.71584153  0.75232375 ...,  0.24022448 -0.75001138\n",
      "  -0.88364369]]\n",
      "[[ 0.95036864 -0.43992004 -1.27088678 ..., -0.00482269  0.80386508\n",
      "   1.14012134]\n",
      " [-0.53637046 -1.30264688  1.73127592 ...,  1.32555246  0.12046738\n",
      "   1.56219339]\n",
      " [-0.98681074  1.47597194 -1.32031608 ...,  0.56552452  0.7807622\n",
      "   0.12444765]\n",
      " ..., \n",
      " [ 1.70699966 -0.42112988  0.47572461 ...,  0.11053076 -2.66118693\n",
      "   0.72965157]\n",
      " [-0.71429056 -2.34721828  1.54519451 ...,  0.10051571  0.00465609\n",
      "   1.02849889]\n",
      " [-1.06370831  0.72901899  0.98082948 ..., -0.1381342  -2.01436043\n",
      "   0.22796406]]\n"
     ]
    }
   ],
   "source": [
    "import numpy as np\n",
    "import tensorflow as tf\n",
    "\n",
    "# Input data (1000 samples and 100 dimensions, sampled from normal distribution mean 0 and variance 1\n",
    "x = tf.Variable(tf.random_normal([1000, 100]))\n",
    "\n",
    "# Weights (100 x 100) - fist hidden layer 100 neurons (again sampled from normal distribution)\n",
    "w = tf.Variable(tf.random_normal([100, 100]))\n",
    "\n",
    "# Let's pay attention to pre-activation (linear transformation) and post activation (sigmoid)\n",
    "z = tf.matmul(x, w)\n",
    "a = tf.sigmoid(z)\n",
    "\n",
    "# Initialize variables\n",
    "s = tf.Session()\n",
    "s.run(x.initializer)\n",
    "s.run(w.initializer)\n",
    "\n",
    "print(s.run(x))\n",
    "print(s.run(w))"
   ]
  },
  {
   "cell_type": "code",
   "execution_count": 16,
   "metadata": {
    "collapsed": false
   },
   "outputs": [
    {
     "data": {
      "text/plain": [
       "(array([   31,   409,  3414, 14078, 29966, 31423, 16011,  4125,   503,    40]),\n",
       " array([-43.91438675, -35.2313446 , -26.54830246, -17.86526031,\n",
       "         -9.18221817,  -0.49917603,   8.18386612,  16.86690826,\n",
       "         25.54995041,  34.23299255,  42.9160347 ]))"
      ]
     },
     "execution_count": 16,
     "metadata": {},
     "output_type": "execute_result"
    }
   ],
   "source": [
    "# Now pay attention to distribution of activation and post-activation values\n",
    "np.histogram(s.run(z), 10)"
   ]
  },
  {
   "cell_type": "code",
   "execution_count": 17,
   "metadata": {
    "collapsed": false
   },
   "outputs": [
    {
     "data": {
      "text/plain": [
       "(array([41137,  3229,  2135,  1800,  1700,  1666,  1734,  2142,  3236, 41221]),\n",
       " array([  8.47664836e-20,   1.00000000e-01,   2.00000000e-01,\n",
       "          3.00000000e-01,   4.00000000e-01,   5.00000000e-01,\n",
       "          6.00000000e-01,   7.00000000e-01,   8.00000000e-01,\n",
       "          9.00000000e-01,   1.00000000e+00]))"
      ]
     },
     "execution_count": 17,
     "metadata": {},
     "output_type": "execute_result"
    }
   ],
   "source": [
    "np.histogram(s.run(a), 10) "
   ]
  },
  {
   "cell_type": "code",
   "execution_count": 18,
   "metadata": {
    "collapsed": false
   },
   "outputs": [
    {
     "data": {
      "text/plain": [
       "101.00862"
      ]
     },
     "execution_count": 18,
     "metadata": {},
     "output_type": "execute_result"
    }
   ],
   "source": [
    "np.var(s.run(z))"
   ]
  },
  {
   "cell_type": "code",
   "execution_count": 19,
   "metadata": {
    "collapsed": false
   },
   "outputs": [
    {
     "data": {
      "text/plain": [
       "0.21020295"
      ]
     },
     "execution_count": 19,
     "metadata": {},
     "output_type": "execute_result"
    }
   ],
   "source": [
    "np.var(s.run(a))"
   ]
  },
  {
   "cell_type": "markdown",
   "metadata": {},
   "source": [
    "# Questions:\n",
    "\n",
    "1. What did you notice in the output ?\n",
    "2. Then change activation function from sigmoid to relu and repeat this exercise"
   ]
  },
  {
   "cell_type": "code",
   "execution_count": 118,
   "metadata": {
    "collapsed": false
   },
   "outputs": [],
   "source": [
    "x = tf.Variable(tf.random_normal([1000, 100]))\n",
    "w = tf.Variable(tf.random_normal([100, 100]))\n",
    "\n",
    "z = tf.matmul(x, w)\n",
    "a = tf.nn.relu(z)\n",
    "\n",
    "s1 = tf.Session()\n",
    "s1.run(x.initializer)\n",
    "s1.run(w.initializer)\n",
    "\n",
    "#print(s1.run(x))\n",
    "#print(s1.run(w))"
   ]
  },
  {
   "cell_type": "code",
   "execution_count": 119,
   "metadata": {
    "collapsed": false
   },
   "outputs": [
    {
     "data": {
      "text/plain": [
       "(array([    5,   137,  1578,  9694, 27502, 34868, 20231,  5221,   710,    54]),\n",
       " array([-48.20395279, -39.12018852, -30.03642426, -20.95265999,\n",
       "        -11.86889572,  -2.78513145,   6.29863281,  15.38239708,\n",
       "         24.46616135,  33.54992561,  42.63368988]))"
      ]
     },
     "execution_count": 119,
     "metadata": {},
     "output_type": "execute_result"
    }
   ],
   "source": [
    "np.histogram(s1.run(z), 10)"
   ]
  },
  {
   "cell_type": "code",
   "execution_count": 120,
   "metadata": {
    "collapsed": false
   },
   "outputs": [
    {
     "data": {
      "text/plain": [
       "(array([66681, 13930,  9629,  5481,  2602,  1107,   413,   112,    39,     6]),\n",
       " array([  0.        ,   4.26336899,   8.52673798,  12.79010696,\n",
       "         17.05347595,  21.31684494,  25.58021393,  29.84358292,\n",
       "         34.1069519 ,  38.37032089,  42.63368988]))"
      ]
     },
     "execution_count": 120,
     "metadata": {},
     "output_type": "execute_result"
    }
   ],
   "source": [
    "np.histogram(s1.run(a), 10) "
   ]
  },
  {
   "cell_type": "code",
   "execution_count": 121,
   "metadata": {
    "collapsed": false
   },
   "outputs": [
    {
     "data": {
      "text/plain": [
       "98.421532"
      ]
     },
     "execution_count": 121,
     "metadata": {},
     "output_type": "execute_result"
    }
   ],
   "source": [
    "np.var(s1.run(z))"
   ]
  },
  {
   "cell_type": "code",
   "execution_count": 122,
   "metadata": {
    "collapsed": false
   },
   "outputs": [
    {
     "data": {
      "text/plain": [
       "33.792439"
      ]
     },
     "execution_count": 122,
     "metadata": {},
     "output_type": "execute_result"
    }
   ],
   "source": [
    "np.var(s1.run(a))"
   ]
  },
  {
   "cell_type": "markdown",
   "metadata": {},
   "source": [
    "3. Then change weight initialization to w = tf.Variable(tf.random_normal([1000, 100])*(1/tf.sqrt(100.0))) and repeat it.\n",
    "4. What are you thinking now ..."
   ]
  },
  {
   "cell_type": "code",
   "execution_count": 106,
   "metadata": {
    "collapsed": false
   },
   "outputs": [],
   "source": [
    "x = tf.Variable(tf.random_normal([1000, 100]))\n",
    "w = tf.Variable(tf.random_normal([100, 100])*(1/tf.sqrt(100.0)))\n",
    "\n",
    "z = tf.matmul(x, w)\n",
    "a = tf.nn.relu(z)\n",
    "\n",
    "s2 = tf.Session()\n",
    "s2.run(x.initializer)\n",
    "s2.run(w.initializer)\n",
    "#print(s2.run(x))\n",
    "#print(s2.run(w))"
   ]
  },
  {
   "cell_type": "code",
   "execution_count": 107,
   "metadata": {
    "collapsed": false
   },
   "outputs": [
    {
     "data": {
      "text/plain": [
       "(array([    3,   111,  2147, 14722, 36699, 33878, 10985,  1385,    69,     1]),\n",
       " array([-5.25473309, -4.18380938, -3.11288567, -2.04196196, -0.97103825,\n",
       "         0.09988546,  1.17080917,  2.24173288,  3.31265659,  4.3835803 ,\n",
       "         5.45450401]))"
      ]
     },
     "execution_count": 107,
     "metadata": {},
     "output_type": "execute_result"
    }
   ],
   "source": [
    "np.histogram(s2.run(z), 10)"
   ]
  },
  {
   "cell_type": "code",
   "execution_count": 108,
   "metadata": {
    "collapsed": false
   },
   "outputs": [
    {
     "data": {
      "text/plain": [
       "(array([70457, 15452,  8729,  3663,  1249,   370,    61,    18,     0,     1]),\n",
       " array([ 0.        ,  0.5454504 ,  1.0909008 ,  1.6363512 ,  2.18180161,\n",
       "         2.72725201,  3.27270241,  3.81815281,  4.36360321,  4.90905361,\n",
       "         5.45450401]))"
      ]
     },
     "execution_count": 108,
     "metadata": {},
     "output_type": "execute_result"
    }
   ],
   "source": [
    "np.histogram(s2.run(a), 10) "
   ]
  },
  {
   "cell_type": "code",
   "execution_count": 109,
   "metadata": {
    "collapsed": false
   },
   "outputs": [
    {
     "data": {
      "text/plain": [
       "1.0417368"
      ]
     },
     "execution_count": 109,
     "metadata": {},
     "output_type": "execute_result"
    }
   ],
   "source": [
    "np.var(s2.run(z))"
   ]
  },
  {
   "cell_type": "code",
   "execution_count": 110,
   "metadata": {
    "collapsed": false
   },
   "outputs": [
    {
     "data": {
      "text/plain": [
       "0.35686392"
      ]
     },
     "execution_count": 110,
     "metadata": {},
     "output_type": "execute_result"
    }
   ],
   "source": [
    "np.var(s2.run(a))"
   ]
  },
  {
   "cell_type": "code",
   "execution_count": 139,
   "metadata": {
    "collapsed": true
   },
   "outputs": [],
   "source": [
    "x = tf.Variable(tf.truncated_normal([1000, 100], stddev = 1.0))\n",
    "w = tf.Variable(tf.truncated_normal([100, 100], stddev = 1.0))\n",
    "\n",
    "z = tf.matmul(x, w)\n",
    "a = tf.nn.relu(z)\n",
    "\n",
    "s3 = tf.Session()\n",
    "s3.run(x.initializer)\n",
    "s3.run(w.initializer)\n",
    "#print(s2.run(x))\n",
    "#print(s2.run(w))"
   ]
  },
  {
   "cell_type": "code",
   "execution_count": 140,
   "metadata": {
    "collapsed": false
   },
   "outputs": [
    {
     "data": {
      "text/plain": [
       "(array([   82,   856,  5312, 18263, 32020, 27684, 12575,  2833,   348,    27]),\n",
       " array([-31.6075573 , -25.03357944, -18.45960159, -11.88562374,\n",
       "         -5.31164589,   1.26233196,   7.83630981,  14.41028767,\n",
       "         20.98426552,  27.55824337,  34.13222122]))"
      ]
     },
     "execution_count": 140,
     "metadata": {},
     "output_type": "execute_result"
    }
   ],
   "source": [
    "np.histogram(s3.run(z), 10)"
   ]
  },
  {
   "cell_type": "code",
   "execution_count": 141,
   "metadata": {
    "collapsed": false
   },
   "outputs": [
    {
     "data": {
      "text/plain": [
       "(array([67014, 13925,  9715,  5407,  2487,   996,   337,    88,    25,     6]),\n",
       " array([  0.        ,   3.41322212,   6.82644424,  10.23966637,\n",
       "         13.65288849,  17.06611061,  20.47933273,  23.89255486,\n",
       "         27.30577698,  30.7189991 ,  34.13222122]))"
      ]
     },
     "execution_count": 141,
     "metadata": {},
     "output_type": "execute_result"
    }
   ],
   "source": [
    "np.histogram(s3.run(a), 10) "
   ]
  },
  {
   "cell_type": "code",
   "execution_count": 142,
   "metadata": {
    "collapsed": false
   },
   "outputs": [
    {
     "data": {
      "text/plain": [
       "60.52026"
      ]
     },
     "execution_count": 142,
     "metadata": {},
     "output_type": "execute_result"
    }
   ],
   "source": [
    "np.var(s3.run(z))"
   ]
  },
  {
   "cell_type": "code",
   "execution_count": 143,
   "metadata": {
    "collapsed": false
   },
   "outputs": [
    {
     "data": {
      "text/plain": [
       "20.724529"
      ]
     },
     "execution_count": 143,
     "metadata": {},
     "output_type": "execute_result"
    }
   ],
   "source": [
    "np.var(s3.run(a))"
   ]
  },
  {
   "cell_type": "code",
   "execution_count": null,
   "metadata": {
    "collapsed": true
   },
   "outputs": [],
   "source": []
  }
 ],
 "metadata": {
  "kernelspec": {
   "display_name": "Python 2",
   "language": "python",
   "name": "python2"
  },
  "language_info": {
   "codemirror_mode": {
    "name": "ipython",
    "version": 2
   },
   "file_extension": ".py",
   "mimetype": "text/x-python",
   "name": "python",
   "nbconvert_exporter": "python",
   "pygments_lexer": "ipython2",
   "version": "2.7.13"
  }
 },
 "nbformat": 4,
 "nbformat_minor": 2
}
