{
 "cells": [
  {
   "cell_type": "markdown",
   "metadata": {},
   "source": [
    "# Basic Neural Network - Feed Forward\n",
    "\n",
    "![BasicNN](basic-nn.png \"Basic Neural Network\")"
   ]
  },
  {
   "cell_type": "code",
   "execution_count": 116,
   "metadata": {
    "collapsed": false
   },
   "outputs": [
    {
     "name": "stdout",
     "output_type": "stream",
     "text": [
      "X and y matrices before normalization\n",
      "[[  3.   5.]\n",
      " [  5.   1.]\n",
      " [ 10.   2.]]\n",
      "[[ 75.]\n",
      " [ 82.]\n",
      " [ 93.]]\n",
      "X and y matrices AFTER normalization\n",
      "[[ 0.3  1. ]\n",
      " [ 0.5  0.2]\n",
      " [ 1.   0.4]]\n",
      "[[ 0.75]\n",
      " [ 0.82]\n",
      " [ 0.93]]\n"
     ]
    }
   ],
   "source": [
    "import numpy as np\n",
    "import matplotlib.pyplot as plt\n",
    "\n",
    "# Input samples. e.g.:\n",
    "# X = (hours sleeping, hours studying), y = Score on test\n",
    "X = np.array(([3,5], [5,1], [10,2]), dtype=float)\n",
    "y = np.array(([75], [82], [93]), dtype=float)\n",
    "\n",
    "print(\"X and y matrices before normalization\")\n",
    "print(X)\n",
    "print(y)\n",
    "\n",
    "# Normalize x and y values:\n",
    "# Scale our data taking advantage of the fact that all data is positive.\n",
    "# Just divide by the maximum value for each variable, effectively scaling the result between 0 and 1.\n",
    "X /= np.amax(X, axis=0)\n",
    "# Another way of normalizing\n",
    "#X = (X - np.amin(X, axis=0))/(np.amax(X, axis=0) - np.amin(X, axis=0))\n",
    "y = y/100\n",
    "\n",
    "print(\"X and y matrices AFTER normalization\")\n",
    "print(X)\n",
    "print(y)\n",
    "\n",
    "class Neural_Network(object):\n",
    "    SIGMOID, RELU = range(2)\n",
    "    def __init__(self):\n",
    "        #Define Hyperparameters\n",
    "        self.inputLayerSize = 2\n",
    "        self.outputLayerSize = 1\n",
    "        self.hiddenLayerSize = 3\n",
    "\n",
    "        #Weights (parameters)\n",
    "        self.W1 = np.random.randn(self.inputLayerSize, self.hiddenLayerSize)\n",
    "        self.W2 = np.random.randn(self.hiddenLayerSize, self.outputLayerSize)\n",
    "\n",
    "    def forward(self, X, non_linear=RELU):\n",
    "        #Propagate inputs though network\n",
    "        self.z2 = np.dot(X, self.W1)\n",
    "        print(\"X x W1:\")\n",
    "        print(self.z2)\n",
    "        if (non_linear == self.RELU):\n",
    "            print(\"Applying RELU in layer 1. A2:\")\n",
    "            self.a2 = self.relu(self.z2)\n",
    "        else:\n",
    "            print(\"Applying SIG in layer 1. A2:\")\n",
    "            self.a2 = self.sigmoid(self.z2)\n",
    "        print(self.a2)\n",
    "        self.z3 = np.dot(self.a2, self.W2)\n",
    "        print(\"A2 x W2:\")\n",
    "        print(self.z3)\n",
    "        if (non_linear == self.RELU):\n",
    "            print(\"Applying RELU in layer 2. YHat:\")\n",
    "            yHat = self.relu(self.z3)\n",
    "        else:\n",
    "            print(\"Applying SIG in layer 2. YHat:\")\n",
    "            yHat = self.sigmoid(self.z3)\n",
    "        print(yHat)\n",
    "        return yHat\n",
    "\n",
    "    def sigmoid(self, z):\n",
    "        #Apply sigmoid activation function to scalar, vector, or matrix\n",
    "        return 1/(1+np.exp(-z))\n",
    "    \n",
    "    def relu(self, z):\n",
    "        return np.maximum(z, 0)\n",
    "        #return z * (z > 0)\n",
    "        # Another method: return np.maximum(z, 0)\n"
   ]
  },
  {
   "cell_type": "markdown",
   "metadata": {},
   "source": [
    "# NN Creation and Forward Pass Execution"
   ]
  },
  {
   "cell_type": "code",
   "execution_count": 117,
   "metadata": {
    "collapsed": false
   },
   "outputs": [
    {
     "name": "stdout",
     "output_type": "stream",
     "text": [
      "X x W1:\n",
      "[[ 0.75837322  0.44627263  0.86060657]\n",
      " [-0.55177635 -0.24685686  0.50613464]\n",
      " [-1.10355271 -0.49371372  1.01226927]]\n",
      "Applying RELU in layer 1. A2:\n",
      "[[ 0.75837322  0.44627263  0.86060657]\n",
      " [ 0.          0.          0.50613464]\n",
      " [ 0.          0.          1.01226927]]\n",
      "A2 x W2:\n",
      "[[-1.15046901]\n",
      " [ 0.38865099]\n",
      " [ 0.77730197]]\n",
      "Applying RELU in layer 2. YHat:\n",
      "[[ 0.        ]\n",
      " [ 0.38865099]\n",
      " [ 0.77730197]]\n"
     ]
    }
   ],
   "source": [
    "NN = Neural_Network()\n",
    "yHat = NN.forward(X)"
   ]
  },
  {
   "cell_type": "markdown",
   "metadata": {},
   "source": [
    "# Main Non-Linear Functions"
   ]
  },
  {
   "cell_type": "code",
   "execution_count": 126,
   "metadata": {
    "collapsed": false
   },
   "outputs": [
    {
     "data": {
      "image/png": "[encoded data removed]",
      "text/plain": [
       "<matplotlib.figure.Figure at 0x10d0be290>"
      ]
     },
     "metadata": {},
     "output_type": "display_data"
    }
   ],
   "source": [
    "testInput = np.arange(-10,10,0.01)\n",
    "plt.plot(testInput, NN.sigmoid(testInput), linewidth= 2)\n",
    "plt.grid(1)\n",
    "plt.show()"
   ]
  },
  {
   "cell_type": "code",
   "execution_count": 127,
   "metadata": {
    "collapsed": false
   },
   "outputs": [
    {
     "data": {
      "image/png": "[encoded data removed]",
      "text/plain": [
       "<matplotlib.figure.Figure at 0x10df2c2d0>"
      ]
     },
     "metadata": {},
     "output_type": "display_data"
    }
   ],
   "source": [
    "testInput = np.arange(-10,10,0.01)\n",
    "plt.plot(testInput, NN.relu(testInput), linewidth= 2)\n",
    "plt.grid(1)\n",
    "plt.show()"
   ]
  },
  {
   "cell_type": "code",
   "execution_count": null,
   "metadata": {
    "collapsed": true
   },
   "outputs": [],
   "source": []
  }
 ],
 "metadata": {
  "kernelspec": {
   "display_name": "Python 2",
   "language": "python",
   "name": "python2"
  },
  "language_info": {
   "codemirror_mode": {
    "name": "ipython",
    "version": 2
   },
   "file_extension": ".py",
   "mimetype": "text/x-python",
   "name": "python",
   "nbconvert_exporter": "python",
   "pygments_lexer": "ipython2",
   "version": "2.7.13"
  }
 },
 "nbformat": 4,
 "nbformat_minor": 2
}
